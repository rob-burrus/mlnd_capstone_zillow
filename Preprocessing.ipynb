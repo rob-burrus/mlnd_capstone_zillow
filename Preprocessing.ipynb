{
 "cells": [
  {
   "cell_type": "code",
   "execution_count": 916,
   "metadata": {
    "collapsed": true,
    "deletable": true,
    "editable": true
   },
   "outputs": [],
   "source": [
    "import numpy as np\n",
    "import pandas as pd\n",
    "from IPython.display import display\n",
    "from sklearn import model_selection, preprocessing, neighbors\n",
    "import seaborn as sns\n",
    "from sklearn.neighbors import KNeighborsRegressor\n",
    "from sklearn.preprocessing import OneHotEncoder\n",
    "from sklearn.preprocessing import StandardScaler\n",
    "from sklearn.preprocessing import LabelEncoder\n",
    "from haversine import haversine\n",
    "\n",
    "import matplotlib.pyplot as plt\n",
    "import seaborn as sn\n",
    "import missingno as msno\n",
    "%matplotlib inline"
   ]
  },
  {
   "cell_type": "code",
   "execution_count": 404,
   "metadata": {
    "collapsed": false,
    "deletable": true,
    "editable": true
   },
   "outputs": [],
   "source": [
    "###\n",
    "### Combine 2016 and 2017 data\n",
    "###\n",
    "#properties2016 = pd.read_csv('properties_2016.csv')\n",
    "#print(\"2016 Properties - {} rows with {} features\".format(*properties2016.shape))\n",
    "#properties2017 = pd.read_csv('properties_2017.csv')\n",
    "#print(\"2017 Properties - {} rows with {} features\".format(*properties2017.shape))\n",
    "#train2016 = pd.read_csv('train_2016_v2.csv', parse_dates=['transactiondate'])\n",
    "#print(\"2016 Train - {} rows with {} features\".format(*train2016.shape))\n",
    "#train2017 = pd.read_csv('train_2017.csv', parse_dates=['transactiondate'])\n",
    "#print(\"2017 Train - {} rows with {} features\".format(*train2017.shape))\n",
    "#train = pd.merge(train2016, properties2016,how='left',on='parcelid')\n",
    "#train2 = pd.merge(train2017, properties2017,how='left',on='parcelid')\n",
    "#train = train.append(train2)\n",
    "#\n",
    "#msk = np.random.rand(len(train)) <= 0.8\n",
    "#\n",
    "#final_train = train[msk]\n",
    "#final_train.to_csv('train.csv', index=False)\n",
    "#final_test = train[~msk]\n",
    "#final_test.to_csv('test.csv', index=False)"
   ]
  },
  {
   "cell_type": "code",
   "execution_count": 651,
   "metadata": {
    "collapsed": false,
    "deletable": true,
    "editable": true
   },
   "outputs": [
    {
     "name": "stdout",
     "output_type": "stream",
     "text": [
      "134627 rows with 60 features\n"
     ]
    }
   ],
   "source": []
  },
  {
   "cell_type": "markdown",
   "metadata": {
    "deletable": true,
    "editable": true
   },
   "source": [
    "## Dealing with missing data\n",
    "\n"
   ]
  },
  {
   "cell_type": "code",
   "execution_count": null,
   "metadata": {
    "collapsed": false,
    "deletable": true,
    "editable": true
   },
   "outputs": [],
   "source": []
  },
  {
   "cell_type": "code",
   "execution_count": null,
   "metadata": {
    "collapsed": false,
    "deletable": true,
    "editable": true
   },
   "outputs": [],
   "source": [
    "\n"
   ]
  },
  {
   "cell_type": "code",
   "execution_count": null,
   "metadata": {
    "collapsed": false,
    "deletable": true,
    "editable": true
   },
   "outputs": [],
   "source": []
  },
  {
   "cell_type": "code",
   "execution_count": null,
   "metadata": {
    "collapsed": false,
    "deletable": true,
    "editable": true
   },
   "outputs": [],
   "source": []
  },
  {
   "cell_type": "code",
   "execution_count": null,
   "metadata": {
    "collapsed": false,
    "deletable": true,
    "editable": true
   },
   "outputs": [],
   "source": []
  },
  {
   "cell_type": "code",
   "execution_count": null,
   "metadata": {
    "collapsed": false,
    "deletable": true,
    "editable": true
   },
   "outputs": [],
   "source": []
  },
  {
   "cell_type": "code",
   "execution_count": null,
   "metadata": {
    "collapsed": false,
    "deletable": true,
    "editable": true
   },
   "outputs": [],
   "source": []
  },
  {
   "cell_type": "code",
   "execution_count": null,
   "metadata": {
    "collapsed": false,
    "deletable": true,
    "editable": true
   },
   "outputs": [],
   "source": []
  },
  {
   "cell_type": "code",
   "execution_count": null,
   "metadata": {
    "collapsed": false,
    "deletable": true,
    "editable": true
   },
   "outputs": [],
   "source": []
  },
  {
   "cell_type": "code",
   "execution_count": null,
   "metadata": {
    "collapsed": false,
    "deletable": true,
    "editable": true
   },
   "outputs": [],
   "source": []
  },
  {
   "cell_type": "code",
   "execution_count": null,
   "metadata": {
    "collapsed": false,
    "deletable": true,
    "editable": true
   },
   "outputs": [],
   "source": []
  },
  {
   "cell_type": "code",
   "execution_count": null,
   "metadata": {
    "collapsed": false,
    "deletable": true,
    "editable": true,
    "scrolled": true
   },
   "outputs": [],
   "source": [
    "\n"
   ]
  },
  {
   "cell_type": "code",
   "execution_count": 373,
   "metadata": {
    "collapsed": false,
    "deletable": true,
    "editable": true
   },
   "outputs": [
    {
     "name": "stdout",
     "output_type": "stream",
     "text": [
      "finishedfloor1squarefeet null count:  31128\n",
      "finishedfloor1squarefeet:\n",
      "1431.0    12\n",
      "1226.0    11\n",
      "713.0     11\n",
      "734.0     10\n",
      "1040.0    10\n",
      "1252.0    10\n",
      "1043.0     9\n",
      "1612.0     9\n",
      "1462.0     9\n",
      "1016.0     9\n",
      "1064.0     9\n",
      "1058.0     8\n",
      "1233.0     8\n",
      "1110.0     8\n",
      "1891.0     8\n",
      "856.0      8\n",
      "1500.0     8\n",
      "1123.0     8\n",
      "1498.0     8\n",
      "1205.0     7\n",
      "1290.0     7\n",
      "1368.0     7\n",
      "1227.0     7\n",
      "979.0      7\n",
      "780.0      7\n",
      "798.0      7\n",
      "1155.0     7\n",
      "912.0      7\n",
      "2154.0     7\n",
      "1547.0     6\n",
      "          ..\n",
      "493.0      1\n",
      "1635.0     1\n",
      "2516.0     1\n",
      "1676.0     1\n",
      "1663.0     1\n",
      "3502.0     1\n",
      "746.0      1\n",
      "740.0      1\n",
      "778.0      1\n",
      "818.0      1\n",
      "852.0      1\n",
      "2222.0     1\n",
      "1732.0     1\n",
      "2461.0     1\n",
      "2402.0     1\n",
      "792.0      1\n",
      "3157.0     1\n",
      "1909.0     1\n",
      "1788.0     1\n",
      "476.0      1\n",
      "3447.0     1\n",
      "1283.0     1\n",
      "1532.0     1\n",
      "1823.0     1\n",
      "1318.0     1\n",
      "894.0      1\n",
      "1332.0     1\n",
      "1250.0     1\n",
      "1481.0     1\n",
      "1543.0     1\n",
      "Name: finishedfloor1squarefeet, Length: 1272, dtype: int64\n",
      "finishedsquarefeet6 null count:  33590\n",
      "finishedsquarefeet6:\n",
      "2172.0    2\n",
      "2582.0    2\n",
      "2628.0    2\n",
      "1360.0    2\n",
      "952.0     2\n",
      "2180.0    2\n",
      "2676.0    1\n",
      "2650.0    1\n",
      "854.0     1\n",
      "2647.0    1\n",
      "2388.0    1\n",
      "4773.0    1\n",
      "4249.0    1\n",
      "1214.0    1\n",
      "5268.0    1\n",
      "2376.0    1\n",
      "2694.0    1\n",
      "2631.0    1\n",
      "1443.0    1\n",
      "4086.0    1\n",
      "3707.0    1\n",
      "3044.0    1\n",
      "816.0     1\n",
      "1212.0    1\n",
      "988.0     1\n",
      "2564.0    1\n",
      "1847.0    1\n",
      "1589.0    1\n",
      "2921.0    1\n",
      "1184.0    1\n",
      "         ..\n",
      "3472.0    1\n",
      "3470.0    1\n",
      "3780.0    1\n",
      "4379.0    1\n",
      "738.0     1\n",
      "926.0     1\n",
      "3462.0    1\n",
      "833.0     1\n",
      "1445.0    1\n",
      "2179.0    1\n",
      "3552.0    1\n",
      "1999.0    1\n",
      "3743.0    1\n",
      "3300.0    1\n",
      "2235.0    1\n",
      "1629.0    1\n",
      "878.0     1\n",
      "1539.0    1\n",
      "1243.0    1\n",
      "4967.0    1\n",
      "1216.0    1\n",
      "684.0     1\n",
      "4442.0    1\n",
      "1750.0    1\n",
      "955.0     1\n",
      "3752.0    1\n",
      "3160.0    1\n",
      "4300.0    1\n",
      "811.0     1\n",
      "1920.0    1\n",
      "Name: finishedsquarefeet6, Length: 160, dtype: int64\n",
      "finishedsquarefeet13 null count:  33741\n",
      "finishedsquarefeet13:\n",
      "1440.0    8\n",
      "1248.0    2\n",
      "1536.0    2\n",
      "1392.0    1\n",
      "1560.0    1\n",
      "1416.0    1\n",
      "Name: finishedsquarefeet13, dtype: int64\n",
      "finishedsquarefeet15 null count:  32446\n",
      "finishedsquarefeet15:\n",
      "1512.0    6\n",
      "1680.0    6\n",
      "2304.0    5\n",
      "1364.0    5\n",
      "1728.0    5\n",
      "1752.0    5\n",
      "1344.0    5\n",
      "2596.0    4\n",
      "1536.0    4\n",
      "2058.0    4\n",
      "1778.0    4\n",
      "1950.0    4\n",
      "1566.0    4\n",
      "1440.0    4\n",
      "1998.0    4\n",
      "2400.0    4\n",
      "2072.0    4\n",
      "2160.0    4\n",
      "1764.0    4\n",
      "2144.0    4\n",
      "1934.0    3\n",
      "1456.0    3\n",
      "1510.0    3\n",
      "1896.0    3\n",
      "2376.0    3\n",
      "2024.0    3\n",
      "1524.0    3\n",
      "3000.0    3\n",
      "2000.0    3\n",
      "1704.0    3\n",
      "         ..\n",
      "2964.0    1\n",
      "2997.0    1\n",
      "2627.0    1\n",
      "3219.0    1\n",
      "1742.0    1\n",
      "4246.0    1\n",
      "2066.0    1\n",
      "4036.0    1\n",
      "2912.0    1\n",
      "1580.0    1\n",
      "2211.0    1\n",
      "4300.0    1\n",
      "1281.0    1\n",
      "2978.0    1\n",
      "1999.0    1\n",
      "3278.0    1\n",
      "1622.0    1\n",
      "3272.0    1\n",
      "3030.0    1\n",
      "2546.0    1\n",
      "1600.0    1\n",
      "1664.0    1\n",
      "3384.0    1\n",
      "1548.0    1\n",
      "1478.0    1\n",
      "4411.0    1\n",
      "1748.0    1\n",
      "2717.0    1\n",
      "2506.0    1\n",
      "2456.0    1\n",
      "Name: finishedsquarefeet15, Length: 971, dtype: int64\n",
      "finishedsquarefeet50 null count:  31128\n",
      "finishedsquarefeet50:\n",
      "1431.0    12\n",
      "713.0     11\n",
      "1226.0    11\n",
      "734.0     10\n",
      "1252.0    10\n",
      "1040.0    10\n",
      "1064.0     9\n",
      "1612.0     9\n",
      "1016.0     9\n",
      "1043.0     9\n",
      "1462.0     9\n",
      "1058.0     8\n",
      "1500.0     8\n",
      "1498.0     8\n",
      "856.0      8\n",
      "1891.0     8\n",
      "1110.0     8\n",
      "1123.0     8\n",
      "1233.0     8\n",
      "1227.0     7\n",
      "1155.0     7\n",
      "979.0      7\n",
      "912.0      7\n",
      "798.0      7\n",
      "780.0      7\n",
      "1290.0     7\n",
      "1368.0     7\n",
      "2154.0     7\n",
      "1205.0     7\n",
      "1547.0     6\n",
      "          ..\n",
      "1750.0     1\n",
      "2100.0     1\n",
      "1010.0     1\n",
      "500.0      1\n",
      "649.0      1\n",
      "3465.0     1\n",
      "2390.0     1\n",
      "2959.0     1\n",
      "565.0      1\n",
      "1777.0     1\n",
      "490.0      1\n",
      "1535.0     1\n",
      "2189.0     1\n",
      "3244.0     1\n",
      "1442.0     1\n",
      "584.0      1\n",
      "1463.0     1\n",
      "991.0      1\n",
      "1391.0     1\n",
      "4358.0     1\n",
      "1349.0     1\n",
      "2443.0     1\n",
      "1875.0     1\n",
      "1681.0     1\n",
      "749.0      1\n",
      "4373.0     1\n",
      "1889.0     1\n",
      "628.0      1\n",
      "3159.0     1\n",
      "789.0      1\n",
      "Name: finishedsquarefeet50, Length: 1275, dtype: int64\n"
     ]
    }
   ],
   "source": [
    "###\n",
    "### edits to living area data\n",
    "###\n",
    "\n",
    "\n",
    "print(\"finishedfloor1squarefeet null count: \", train.finishedfloor1squarefeet.isnull().sum())\n",
    "#index = train.finishedfloor1squarefeet.isnull()\n",
    "#train.loc[index,'finishedfloor1squarefeet'] = 0\n",
    "print(\"finishedfloor1squarefeet:\")\n",
    "print(train.finishedfloor1squarefeet.value_counts())\n",
    "train.drop(['finishedfloor1squarefeet'], axis=1, inplace=True) # Lots of missing data\n",
    "\n",
    "\n",
    "print(\"finishedsquarefeet6 null count: \", train.finishedsquarefeet6.isnull().sum())\n",
    "print(\"finishedsquarefeet6:\")\n",
    "print(train.finishedsquarefeet6.value_counts())\n",
    "train.drop(['finishedsquarefeet6'], axis=1, inplace=True) # Lots of missing data\n",
    "\n",
    "\n",
    "print(\"finishedsquarefeet13 null count: \", train.finishedsquarefeet13.isnull().sum())\n",
    "print(\"finishedsquarefeet13:\")\n",
    "print(train.finishedsquarefeet13.value_counts())\n",
    "train.drop(['finishedsquarefeet13'], axis=1, inplace=True) # Lots of missing data\n",
    "\n",
    "\n",
    "print(\"finishedsquarefeet15 null count: \", train.finishedsquarefeet15.isnull().sum())\n",
    "print(\"finishedsquarefeet15:\")\n",
    "print(train.finishedsquarefeet15.value_counts())\n",
    "train.drop(['finishedsquarefeet15'], axis=1, inplace=True) # Lots of missing data\n",
    "\n",
    "\n",
    "print(\"finishedsquarefeet50 null count: \", train.finishedsquarefeet50.isnull().sum())\n",
    "print(\"finishedsquarefeet50:\")\n",
    "print(train.finishedsquarefeet50.value_counts())\n",
    "train.drop(['finishedsquarefeet50'], axis=1, inplace=True) # same as finishedfloor1squarefeet\n",
    "\n",
    "\n",
    "\n",
    "\n",
    "\n"
   ]
  },
  {
   "cell_type": "code",
   "execution_count": 848,
   "metadata": {
    "collapsed": false,
    "deletable": true,
    "editable": true
   },
   "outputs": [
    {
     "name": "stdout",
     "output_type": "stream",
     "text": [
      "100%       8294\n",
      "75%        8281\n",
      "50%        8271\n",
      "25%        8148\n",
      "Unknown     199\n",
      "Name: New_CalculatedFinishedSquareFeet, dtype: int64\n"
     ]
    }
   ],
   "source": []
  },
  {
   "cell_type": "code",
   "execution_count": 849,
   "metadata": {
    "collapsed": false,
    "deletable": true,
    "editable": true
   },
   "outputs": [
    {
     "name": "stdout",
     "output_type": "stream",
     "text": [
      "50%        9444\n",
      "75%        7926\n",
      "100%       7901\n",
      "25%        6260\n",
      "Unknown    1662\n",
      "Name: New_FinishedSquareFeet12, dtype: int64\n"
     ]
    }
   ],
   "source": []
  },
  {
   "cell_type": "code",
   "execution_count": null,
   "metadata": {
    "collapsed": false,
    "deletable": true,
    "editable": true
   },
   "outputs": [],
   "source": []
  },
  {
   "cell_type": "code",
   "execution_count": null,
   "metadata": {
    "collapsed": false,
    "deletable": true,
    "editable": true
   },
   "outputs": [],
   "source": []
  },
  {
   "cell_type": "code",
   "execution_count": null,
   "metadata": {
    "collapsed": false,
    "deletable": true,
    "editable": true
   },
   "outputs": [],
   "source": []
  },
  {
   "cell_type": "code",
   "execution_count": null,
   "metadata": {
    "collapsed": false,
    "deletable": true,
    "editable": true,
    "scrolled": true
   },
   "outputs": [],
   "source": [
    "\n"
   ]
  },
  {
   "cell_type": "code",
   "execution_count": 850,
   "metadata": {
    "collapsed": false,
    "deletable": true,
    "editable": true
   },
   "outputs": [
    {
     "name": "stdout",
     "output_type": "stream",
     "text": [
      "Single      20258\n",
      "Unknown     11620\n",
      "Multiple     1383\n",
      "Name: New_UnitCount, dtype: int64\n"
     ]
    }
   ],
   "source": [
    "train.loc[(train.unitcnt <= 0) | (train.unitcnt.isnull()), 'New_UnitCount'] = 'Unknown'\n",
    "train.loc[train.unitcnt == 1, 'New_UnitCount'] = 'Single'\n",
    "train.loc[train.unitcnt > 1, 'New_UnitCount'] = 'Multiple'\n",
    "\n",
    "\n",
    "print(train.New_UnitCount.value_counts())\n"
   ]
  },
  {
   "cell_type": "code",
   "execution_count": null,
   "metadata": {
    "collapsed": false,
    "deletable": true,
    "editable": true
   },
   "outputs": [],
   "source": []
  },
  {
   "cell_type": "code",
   "execution_count": 851,
   "metadata": {
    "collapsed": false,
    "deletable": true,
    "editable": true
   },
   "outputs": [
    {
     "name": "stdout",
     "output_type": "stream",
     "text": [
      "OK         13089\n",
      "Unknown    11987\n",
      "Good        7205\n",
      "Bad          980\n",
      "Name: New_BuildingQuality, dtype: int64\n"
     ]
    }
   ],
   "source": [
    "\n",
    "train.loc[(train.buildingqualitytypeid.isnull()) | (train.buildingqualitytypeid <= 0), 'New_BuildingQuality'] = 'Unknown'\n",
    "train.loc[(train.buildingqualitytypeid >= 1) & (train.buildingqualitytypeid <= 4), 'New_BuildingQuality'] = 'Good'\n",
    "train.loc[(train.buildingqualitytypeid >= 5) & (train.buildingqualitytypeid <= 8), 'New_BuildingQuality'] = 'OK'\n",
    "train.loc[train.buildingqualitytypeid > 8, 'New_BuildingQuality'] = 'Bad'\n",
    "\n",
    "print(train.New_BuildingQuality.value_counts())\n"
   ]
  },
  {
   "cell_type": "code",
   "execution_count": null,
   "metadata": {
    "collapsed": false,
    "deletable": true,
    "editable": true,
    "scrolled": true
   },
   "outputs": [],
   "source": []
  },
  {
   "cell_type": "code",
   "execution_count": null,
   "metadata": {
    "collapsed": false,
    "deletable": true,
    "editable": true,
    "scrolled": true
   },
   "outputs": [],
   "source": []
  },
  {
   "cell_type": "code",
   "execution_count": 852,
   "metadata": {
    "collapsed": false,
    "deletable": true,
    "editable": true
   },
   "outputs": [
    {
     "name": "stdout",
     "output_type": "stream",
     "text": [
      "Few        30420\n",
      "Many        2477\n",
      "Unknown      364\n",
      "Name: New_CalculatedBath, dtype: int64\n"
     ]
    }
   ],
   "source": [
    "\n",
    "train.loc[(train.calculatedbathnbr.isnull()) | (train.calculatedbathnbr <= 0), 'New_CalculatedBath'] = 'Unknown'\n",
    "train.loc[(train.calculatedbathnbr >= 1) & (train.calculatedbathnbr <= 4), 'New_CalculatedBath'] = 'Few'\n",
    "train.loc[train.calculatedbathnbr >= 4, 'New_CalculatedBath'] = 'Many'\n",
    "\n",
    "print(train.New_CalculatedBath.value_counts())"
   ]
  },
  {
   "cell_type": "code",
   "execution_count": 853,
   "metadata": {
    "collapsed": false,
    "deletable": true,
    "editable": true
   },
   "outputs": [
    {
     "name": "stdout",
     "output_type": "stream",
     "text": [
      "fullbathcnt null count:  364\n",
      "Few        30430\n",
      "Many        2467\n",
      "Unknown      364\n",
      "Name: New_FullBath, dtype: int64\n"
     ]
    }
   ],
   "source": [
    "print(\"fullbathcnt null count: \", train.fullbathcnt.isnull().sum())\n",
    "index = train.fullbathcnt.isnull()\n",
    "\n",
    "\n",
    "train.loc[(train.fullbathcnt.isnull()) | (train.fullbathcnt <= 0), 'New_FullBath'] = 'Unknown'\n",
    "train.loc[(train.fullbathcnt >= 1) & (train.fullbathcnt < 4), 'New_FullBath'] = 'Few'\n",
    "train.loc[train.fullbathcnt >= 4, 'New_FullBath'] = 'Many'\n",
    "\n",
    "\n",
    "print(train.New_FullBath.value_counts())\n",
    "#train.drop(['fullbathcnt'], axis=1, inplace=True)"
   ]
  },
  {
   "cell_type": "markdown",
   "metadata": {},
   "source": [
    "# Important Features"
   ]
  },
  {
   "cell_type": "code",
   "execution_count": 892,
   "metadata": {
    "collapsed": false,
    "deletable": true,
    "editable": true
   },
   "outputs": [
    {
     "name": "stdout",
     "output_type": "stream",
     "text": [
      "10%      6712\n",
      "90%      6685\n",
      "95%      5371\n",
      "5%       5356\n",
      "0.5%      676\n",
      "1%        672\n",
      "99.5%     671\n",
      "99%       670\n",
      "Name: New_CalcFinSqFt, dtype: int64\n",
      "100%       33611\n",
      "50%        33491\n",
      "75%        33319\n",
      "25%        33234\n",
      "Unknown      697\n",
      "Name: New_CalculatedFinishedSquareFeet, dtype: int64\n"
     ]
    }
   ],
   "source": [
    "ulimit90 = np.nanpercentile(train.calculatedfinishedsquarefeet.values, 90.)\n",
    "ulimit95 = np.nanpercentile(train.calculatedfinishedsquarefeet.values, 95.)\n",
    "ulimit99 = np.nanpercentile(train.calculatedfinishedsquarefeet.values, 99.)\n",
    "ulimit995 = np.nanpercentile(train.calculatedfinishedsquarefeet.values, 99.5)\n",
    "llimit10 = np.nanpercentile(train.calculatedfinishedsquarefeet.values, 10.)\n",
    "llimit5 = np.nanpercentile(train.calculatedfinishedsquarefeet.values, 5.)\n",
    "llimit1 = np.nanpercentile(train.calculatedfinishedsquarefeet.values, 1.)\n",
    "llimit05 = np.nanpercentile(train.calculatedfinishedsquarefeet.values, 0.5)\n",
    "\n",
    "train.loc[(train.calculatedfinishedsquarefeet >= ulimit90), 'New_CalcFinSqFt'] = '90%'\n",
    "train.loc[(train.calculatedfinishedsquarefeet >= ulimit95), 'New_CalcFinSqFt'] = '95%'\n",
    "train.loc[(train.calculatedfinishedsquarefeet >= ulimit99), 'New_CalcFinSqFt'] = '99%'\n",
    "train.loc[(train.calculatedfinishedsquarefeet >= ulimit995), 'New_CalcFinSqFt'] = '99.5%'\n",
    "train.loc[(train.calculatedfinishedsquarefeet <= llimit10), 'New_CalcFinSqFt'] = '10%'\n",
    "train.loc[(train.calculatedfinishedsquarefeet <= llimit5), 'New_CalcFinSqFt'] = '5%'\n",
    "train.loc[(train.calculatedfinishedsquarefeet <= llimit1), 'New_CalcFinSqFt'] = '1%'\n",
    "train.loc[(train.calculatedfinishedsquarefeet <= llimit05), 'New_CalcFinSqFt'] = '0.5%'\n",
    "\n",
    "print(train.New_CalcFinSqFt.value_counts())\n",
    "\n",
    "\n",
    "train.loc[(train.calculatedfinishedsquarefeet <= 0) | (train.calculatedfinishedsquarefeet.isnull()), 'New_CalculatedFinishedSquareFeet'] = 'Unknown'\n",
    "train.loc[(train['calculatedfinishedsquarefeet'] > 0) & (train['calculatedfinishedsquarefeet'] < 1180), 'New_CalculatedFinishedSquareFeet'] = '25%'\n",
    "train.loc[(train['calculatedfinishedsquarefeet'] > 1180) & (train['calculatedfinishedsquarefeet'] < 1540), 'New_CalculatedFinishedSquareFeet'] = '50%'\n",
    "train.loc[(train['calculatedfinishedsquarefeet'] > 1540) & (train['calculatedfinishedsquarefeet'] < 2100), 'New_CalculatedFinishedSquareFeet'] = '75%'\n",
    "train.loc[train.calculatedfinishedsquarefeet >= 2100, 'New_CalculatedFinishedSquareFeet'] = '100%'\n",
    "print(train.New_CalculatedFinishedSquareFeet.value_counts())"
   ]
  },
  {
   "cell_type": "code",
   "execution_count": 881,
   "metadata": {
    "collapsed": false
   },
   "outputs": [
    {
     "name": "stdout",
     "output_type": "stream",
     "text": [
      "90%      1588\n",
      "10%      1586\n",
      "5%       1272\n",
      "95%      1264\n",
      "0.5%      160\n",
      "99.5%     158\n",
      "1%        158\n",
      "99%       158\n",
      "Name: New_FinSqFt12, dtype: int64\n"
     ]
    }
   ],
   "source": [
    "ulimit90 = np.nanpercentile(train.finishedsquarefeet12.values, 90)\n",
    "ulimit95 = np.nanpercentile(train.finishedsquarefeet12.values, 95)\n",
    "ulimit99 = np.nanpercentile(train.finishedsquarefeet12.values, 99)\n",
    "ulimit995 = np.nanpercentile(train.finishedsquarefeet12.values, 99.5)\n",
    "llimit10 = np.nanpercentile(train.finishedsquarefeet12.values, 10)\n",
    "llimit5 = np.nanpercentile(train.finishedsquarefeet12.values, 5)\n",
    "llimit1 = np.nanpercentile(train.finishedsquarefeet12.values, 1)\n",
    "llimit05 = np.nanpercentile(train.finishedsquarefeet12.values, .5)\n",
    "\n",
    "train.loc[(train.finishedsquarefeet12 >= ulimit90), 'New_FinSqFt12'] = '90%'\n",
    "train.loc[(train.finishedsquarefeet12 >= ulimit95), 'New_FinSqFt12'] = '95%'\n",
    "train.loc[(train.finishedsquarefeet12 >= ulimit99), 'New_FinSqFt12'] = '99%'\n",
    "train.loc[(train.finishedsquarefeet12 >= ulimit995), 'New_FinSqFt12'] = '99.5%'\n",
    "train.loc[(train.finishedsquarefeet12 <= llimit10), 'New_FinSqFt12'] = '10%'\n",
    "train.loc[(train.finishedsquarefeet12 <= llimit5), 'New_FinSqFt12'] = '5%'\n",
    "train.loc[(train.finishedsquarefeet12 <= llimit1), 'New_FinSqFt12'] = '1%'\n",
    "train.loc[(train.finishedsquarefeet12 <= llimit05), 'New_FinSqFt12'] = '0.5%'\n",
    "\n",
    "print(train.New_FinSqFt12.value_counts())\n",
    "\n",
    "\n",
    "#train.loc[(train.finishedsquarefeet12 <= 0) | (train.finishedsquarefeet12.isnull()), 'New_FinishedSquareFeet12'] = 'Unknown'\n",
    "#train.loc[(train['finishedsquarefeet12'] > 0) & (train['finishedsquarefeet12'] < 1100), 'New_FinishedSquareFeet12'] = '25%'\n",
    "#train.loc[(train['finishedsquarefeet12'] > 1100) & (train['finishedsquarefeet12'] < 1520), 'New_FinishedSquareFeet12'] = '50%'\n",
    "#train.loc[(train['finishedsquarefeet12'] > 1520) & (train['finishedsquarefeet12'] < 2065), 'New_FinishedSquareFeet12'] = '75%'\n",
    "#train.loc[train.finishedsquarefeet12 >= 2065, 'New_FinishedSquareFeet12'] = '100%'\n",
    "#\n",
    "#print(train.New_FinishedSquareFeet12.value_counts())"
   ]
  },
  {
   "cell_type": "code",
   "execution_count": 882,
   "metadata": {
    "collapsed": false,
    "deletable": true,
    "editable": true
   },
   "outputs": [
    {
     "name": "stdout",
     "output_type": "stream",
     "text": [
      "90%      1477\n",
      "10%      1473\n",
      "5%       1188\n",
      "95%      1184\n",
      "99.5%     149\n",
      "0.5%      148\n",
      "1%        148\n",
      "99%       147\n",
      "Name: New_LotSizeSqFt, dtype: int64\n"
     ]
    }
   ],
   "source": [
    "ulimit90 = np.nanpercentile(train.lotsizesquarefeet.values, 90)\n",
    "ulimit95 = np.nanpercentile(train.lotsizesquarefeet.values, 95)\n",
    "ulimit99 = np.nanpercentile(train.lotsizesquarefeet.values, 99)\n",
    "ulimit995 = np.nanpercentile(train.lotsizesquarefeet.values, 99.5)\n",
    "llimit10 = np.nanpercentile(train.lotsizesquarefeet.values, 10)\n",
    "llimit5 = np.nanpercentile(train.lotsizesquarefeet.values, 5)\n",
    "llimit1 = np.nanpercentile(train.lotsizesquarefeet.values, 1)\n",
    "llimit05 = np.nanpercentile(train.lotsizesquarefeet.values, .5)\n",
    "\n",
    "train.loc[(train.lotsizesquarefeet >= ulimit90), 'New_LotSizeSqFt'] = '90%'\n",
    "train.loc[(train.lotsizesquarefeet >= ulimit95), 'New_LotSizeSqFt'] = '95%'\n",
    "train.loc[(train.lotsizesquarefeet >= ulimit99), 'New_LotSizeSqFt'] = '99%'\n",
    "train.loc[(train.lotsizesquarefeet >= ulimit995), 'New_LotSizeSqFt'] = '99.5%'\n",
    "train.loc[(train.lotsizesquarefeet <= llimit10), 'New_LotSizeSqFt'] = '10%'\n",
    "train.loc[(train.lotsizesquarefeet <= llimit5), 'New_LotSizeSqFt'] = '5%'\n",
    "train.loc[(train.lotsizesquarefeet <= llimit1), 'New_LotSizeSqFt'] = '1%'\n",
    "train.loc[(train.lotsizesquarefeet <= llimit05), 'New_LotSizeSqFt'] = '0.5%'\n",
    "\n",
    "print(train.New_LotSizeSqFt.value_counts())\n",
    "\n",
    "#train.loc[train.lotsizesquarefeet.isnull(), 'New_LotSizeSquareFeet'] = 'Unknown'\n",
    "#train.loc[(train.lotsizesquarefeet > 0) & (train.lotsizesquarefeet <= 5700), 'New_LotSizeSquareFeet'] = '25%'\n",
    "#train.loc[(train.lotsizesquarefeet > 5700) & (train.lotsizesquarefeet <= 7200), 'New_LotSizeSquareFeet'] = '50%'\n",
    "#train.loc[(train.lotsizesquarefeet > 7200) & (train.lotsizesquarefeet <= 11750), 'New_LotSizeSquareFeet'] = '75%'\n",
    "#train.loc[(train.lotsizesquarefeet > 11750), 'New_LotSizeSquareFeet'] = '100%'\n",
    "#\n",
    "#print(train.New_LotSizeSquareFeet.value_counts())"
   ]
  },
  {
   "cell_type": "code",
   "execution_count": 883,
   "metadata": {
    "collapsed": false,
    "deletable": true,
    "editable": true
   },
   "outputs": [
    {
     "name": "stdout",
     "output_type": "stream",
     "text": [
      "90%      1658\n",
      "10%      1658\n",
      "5%       1326\n",
      "95%      1326\n",
      "0.5%      166\n",
      "99.5%     166\n",
      "1%        166\n",
      "99%       166\n",
      "Name: New_StructTaxValueDollarCnt, dtype: int64\n"
     ]
    }
   ],
   "source": [
    "ulimit90 = np.nanpercentile(train.structuretaxvaluedollarcnt.values, 90)\n",
    "ulimit95 = np.nanpercentile(train.structuretaxvaluedollarcnt.values, 95)\n",
    "ulimit99 = np.nanpercentile(train.structuretaxvaluedollarcnt.values, 99)\n",
    "ulimit995 = np.nanpercentile(train.structuretaxvaluedollarcnt.values, 99.5)\n",
    "llimit10 = np.nanpercentile(train.structuretaxvaluedollarcnt.values, 10)\n",
    "llimit5 = np.nanpercentile(train.structuretaxvaluedollarcnt.values, 5)\n",
    "llimit1 = np.nanpercentile(train.structuretaxvaluedollarcnt.values, 1)\n",
    "llimit05 = np.nanpercentile(train.structuretaxvaluedollarcnt.values, .5)\n",
    "\n",
    "train.loc[(train.structuretaxvaluedollarcnt >= ulimit90), 'New_StructTaxValueDollarCnt'] = '90%'\n",
    "train.loc[(train.structuretaxvaluedollarcnt >= ulimit95), 'New_StructTaxValueDollarCnt'] = '95%'\n",
    "train.loc[(train.structuretaxvaluedollarcnt >= ulimit99), 'New_StructTaxValueDollarCnt'] = '99%'\n",
    "train.loc[(train.structuretaxvaluedollarcnt >= ulimit995), 'New_StructTaxValueDollarCnt'] = '99.5%'\n",
    "train.loc[(train.structuretaxvaluedollarcnt <= llimit10), 'New_StructTaxValueDollarCnt'] = '10%'\n",
    "train.loc[(train.structuretaxvaluedollarcnt <= llimit5), 'New_StructTaxValueDollarCnt'] = '5%'\n",
    "train.loc[(train.structuretaxvaluedollarcnt <= llimit1), 'New_StructTaxValueDollarCnt'] = '1%'\n",
    "train.loc[(train.structuretaxvaluedollarcnt <= llimit05), 'New_StructTaxValueDollarCnt'] = '0.5%'\n",
    "\n",
    "print(train.New_StructTaxValueDollarCnt.value_counts())\n",
    "\n",
    "#train.loc[train.structuretaxvaluedollarcnt.isnull(), 'New_StructureTaxValue'] = 'Unknown'\n",
    "#train.loc[(train.structuretaxvaluedollarcnt > 0) & (train.structuretaxvaluedollarcnt <= 100000), 'New_StructureTaxValue'] = 'Under100'\n",
    "#train.loc[(train.structuretaxvaluedollarcnt > 100000) & (train.structuretaxvaluedollarcnt <= 200000), 'New_StructureTaxValue'] = 'Under200'\n",
    "#train.loc[(train.structuretaxvaluedollarcnt > 200000) & (train.structuretaxvaluedollarcnt <= 300000), 'New_StructureTaxValue'] = 'Under300'\n",
    "#train.loc[(train.structuretaxvaluedollarcnt > 300000) & (train.structuretaxvaluedollarcnt <= 400000), 'New_StructureTaxValue'] = 'Under400'\n",
    "#train.loc[(train.structuretaxvaluedollarcnt > 400000) & (train.structuretaxvaluedollarcnt <= 600000), 'New_StructureTaxValue'] = 'Under600'\n",
    "#train.loc[(train.structuretaxvaluedollarcnt > 600000) & (train.structuretaxvaluedollarcnt <= 800000), 'New_StructureTaxValue'] = 'Under800'\n",
    "#train.loc[(train.structuretaxvaluedollarcnt > 800000) & (train.structuretaxvaluedollarcnt <= 1000000), 'New_StructureTaxValue'] = 'Under1Mil'\n",
    "#train.loc[train.structuretaxvaluedollarcnt > 1000000, 'New_StructureTaxValue'] = 'Over1Mil'\n",
    "#\n",
    "#print(train.New_StructureTaxValue.value_counts())"
   ]
  },
  {
   "cell_type": "code",
   "execution_count": 884,
   "metadata": {
    "collapsed": false,
    "deletable": true,
    "editable": true
   },
   "outputs": [
    {
     "name": "stdout",
     "output_type": "stream",
     "text": [
      "90%      1662\n",
      "10%      1662\n",
      "5%       1330\n",
      "95%      1330\n",
      "0.5%      167\n",
      "99.5%     167\n",
      "1%        166\n",
      "99%       166\n",
      "Name: New_TaxAmount, dtype: int64\n"
     ]
    }
   ],
   "source": [
    "ulimit90 = np.nanpercentile(train.taxamount.values, 90)\n",
    "ulimit95 = np.nanpercentile(train.taxamount.values, 95)\n",
    "ulimit99 = np.nanpercentile(train.taxamount.values, 99)\n",
    "ulimit995 = np.nanpercentile(train.taxamount.values, 99.5)\n",
    "llimit10 = np.nanpercentile(train.taxamount.values, 10)\n",
    "llimit5 = np.nanpercentile(train.taxamount.values, 5)\n",
    "llimit1 = np.nanpercentile(train.taxamount.values, 1)\n",
    "llimit05 = np.nanpercentile(train.taxamount.values, .5)\n",
    "\n",
    "train.loc[(train.taxamount >= ulimit90), 'New_TaxAmount'] = '90%'\n",
    "train.loc[(train.taxamount >= ulimit95), 'New_TaxAmount'] = '95%'\n",
    "train.loc[(train.taxamount >= ulimit99), 'New_TaxAmount'] = '99%'\n",
    "train.loc[(train.taxamount >= ulimit995), 'New_TaxAmount'] = '99.5%'\n",
    "train.loc[(train.taxamount <= llimit10), 'New_TaxAmount'] = '10%'\n",
    "train.loc[(train.taxamount <= llimit5), 'New_TaxAmount'] = '5%'\n",
    "train.loc[(train.taxamount <= llimit1), 'New_TaxAmount'] = '1%'\n",
    "train.loc[(train.taxamount <= llimit05), 'New_TaxAmount'] = '0.5%'\n",
    "\n",
    "print(train.New_TaxAmount.value_counts())\n",
    "\n",
    "\n",
    "#train.loc[train.taxamount.isnull(), 'New_TaxAmount'] = 'Unknown'\n",
    "#train.loc[(train.taxamount > 0) & (train.taxamount <= 3000), 'New_TaxAmount'] = 'Under3k'\n",
    "#train.loc[(train.taxamount > 3000) & (train.taxamount <= 5000), 'New_TaxAmount'] = 'Under5k'\n",
    "#train.loc[(train.taxamount > 5000) & (train.taxamount <= 7000), 'New_TaxAmount'] = 'Under7k'\n",
    "#train.loc[(train.taxamount > 7000) & (train.taxamount <= 10000), 'New_TaxAmount'] = 'Under10k'\n",
    "#train.loc[(train.taxamount > 10000) & (train.taxamount <= 50000), 'New_TaxAmount'] = 'Under50k'\n",
    "#train.loc[train.taxamount > 50000, 'New_TaxAmount'] = 'Over50k'\n",
    "#\n",
    "#print(train.New_TaxAmount.value_counts())"
   ]
  },
  {
   "cell_type": "code",
   "execution_count": null,
   "metadata": {
    "collapsed": true
   },
   "outputs": [],
   "source": []
  },
  {
   "cell_type": "code",
   "execution_count": null,
   "metadata": {
    "collapsed": true
   },
   "outputs": [],
   "source": [
    "\n"
   ]
  },
  {
   "cell_type": "markdown",
   "metadata": {
    "collapsed": false,
    "deletable": true,
    "editable": true
   },
   "source": [
    "\n",
    "# Preprocess Features"
   ]
  },
  {
   "cell_type": "code",
   "execution_count": 957,
   "metadata": {
    "collapsed": false
   },
   "outputs": [
    {
     "name": "stdout",
     "output_type": "stream",
     "text": [
      "33261 rows with 60 features\n"
     ]
    },
    {
     "name": "stderr",
     "output_type": "stream",
     "text": [
      "/Users/BurrusRA/anaconda3/envs/carnd-term1/lib/python3.5/site-packages/IPython/core/interactiveshell.py:2717: DtypeWarning: Columns (51) have mixed types. Specify dtype option on import or set low_memory=False.\n",
      "  interactivity=interactivity, compiler=compiler, result=result)\n"
     ]
    }
   ],
   "source": [
    "train = pd.read_csv(\"test.csv\", parse_dates=['transactiondate'])\n",
    "print(\"{} rows with {} features\".format(*train.shape))"
   ]
  },
  {
   "cell_type": "markdown",
   "metadata": {},
   "source": [
    "# Mod 1"
   ]
  },
  {
   "cell_type": "code",
   "execution_count": 958,
   "metadata": {
    "collapsed": false,
    "deletable": true,
    "editable": true,
    "scrolled": true
   },
   "outputs": [],
   "source": [
    "\n",
    "train['airconditioningtypeid'] = train.airconditioningtypeid.replace({1 : 'Central', 2 : 'ChilledWater', 3 : 'EvaporativeCooler', 4 : 'GeoThermal', 5 : 'None', 6 : 'Other', 7 : 'PackagedACUnit', 8 : 'Partial', 9 : 'Refrigeration', 10 : 'Ventilation', 11 : 'WallUnit', 12 : 'WindowUnit', 13 : 'Yes'})\n",
    "\n",
    "train['heatingorsystemtypeid'] = train.heatingorsystemtypeid.replace({1 : 'Baseboard', 2 : 'Central', 3 : 'Coal', 4 : 'Convection', 5 : 'Electric', 6 : 'ForcedAir', 7 : 'FloorWall', 8 : 'Gas', 9 : 'GeoThermal', 10 : 'Gravity', 11 : 'HeatPump', 12 : 'HotWater', 13 : 'None',\n",
    "                                                                     14 : 'Other', 15 : 'Oil', 16 : 'Partial', 17 : 'Propane', 18 : 'Radiant', 19: 'Steam', 20 : 'Solar', 21 : 'SpaceSuspended', 22 : 'Vent', 23 : 'WoodBurning', 24 : 'Yes', 25 : 'Zone'})\n",
    "\n",
    "train['propertylandusetypeid'] = train.propertylandusetypeid.replace({31 : 'CommercialOfficeResidentialMixed', 46 : 'multistorystore', 246 : 'Duplex', 247 : 'triplex', 248 : 'Quadruplex', 260 : 'ResidentialGeneral', 261 : 'SingleFam', 262 : 'Rural', 263 : 'MobileHome', 264 : 'Townhouse', 265 : 'Cluster', 266 : 'Condo', 267 : 'Coop',\n",
    "                                                                     268 : 'RowHouse', 269 : 'PannedUnit', 270 : 'ResCommon', 271 : 'TimeShare', 273 : 'Bungalow', 274: 'ZeroLotLine', 275 : 'PrefabHome', 276 : 'PatioHome', 279 : 'IngerredSingleFam', 290 : 'Vacant', 291 : 'ResidentialVacant'})\n",
    "\n",
    "\n",
    "##\n",
    "## these id fields have >97% of data missing\n",
    "##\n",
    "\n",
    "train['storytypeid'] = train.storytypeid.replace({7 : 'Basement'})\n",
    "\n",
    "train['architecturalstyletypeid'] = train.architecturalstyletypeid.replace({2 : 'Bungalow', 3 : 'CapeCod', 7 : 'Contemporary', 8 : 'Conventional', 10 : 'FrenchProvincial', 21 : 'Ranch'})\n",
    "\n",
    "train['typeconstructiontypeid'] = train.typeconstructiontypeid.replace({4 : 'Concrete', 6 : 'Frame', 10 : 'Metal', 13 : 'Masonry'})\n",
    "\n",
    "train['buildingclasstypeid'] = train.buildingclasstypeid.replace({3 : 'NonCombust', 4 : 'WoodFrames'})\n",
    "\n",
    "\n"
   ]
  },
  {
   "cell_type": "code",
   "execution_count": 959,
   "metadata": {
    "collapsed": false
   },
   "outputs": [
    {
     "name": "stdout",
     "output_type": "stream",
     "text": [
      "['airconditioningtypeid' 'architecturalstyletypeid' 'buildingclasstypeid'\n",
      " 'hashottuborspa' 'heatingorsystemtypeid' 'propertycountylandusecode'\n",
      " 'propertylandusetypeid' 'propertyzoningdesc' 'storytypeid'\n",
      " 'typeconstructiontypeid' 'fireplaceflag' 'assessmentyear'\n",
      " 'taxdelinquencyflag' 'taxdelinquencyyear']\n"
     ]
    }
   ],
   "source": [
    "#columns = ['propertycountylandusecode', 'propertylandusetypeid', 'regionidcity', 'regionidcounty', 'regionidneighborhood', 'regionidzip', 'assessmentyear', 'taxdelinquencyyear']\n",
    "columns_no_region = ['propertycountylandusecode', 'propertylandusetypeid', 'assessmentyear', 'taxdelinquencyyear']\n",
    "for c in columns_no_region:\n",
    "    train[c] = train[c].astype(object)\n",
    "    \n",
    "objects = train.select_dtypes(include=[object])\n",
    "print(objects.columns.values)"
   ]
  },
  {
   "cell_type": "code",
   "execution_count": 960,
   "metadata": {
    "collapsed": true
   },
   "outputs": [],
   "source": [
    "train.drop(['propertycountylandusecode', 'propertyzoningdesc'], axis=1, inplace=True)\n",
    "train = pd.get_dummies(train, dummy_na=True)"
   ]
  },
  {
   "cell_type": "markdown",
   "metadata": {},
   "source": [
    "# Mod 2"
   ]
  },
  {
   "cell_type": "code",
   "execution_count": 961,
   "metadata": {
    "collapsed": true
   },
   "outputs": [],
   "source": [
    "###\n",
    "### Create new date fields\n",
    "###\n",
    "train[\"transaction_year\"] = train[\"transactiondate\"].dt.year\n",
    "train[\"transaction_month\"] = (train[\"transactiondate\"].dt.year - 2016)*12 + train[\"transactiondate\"].dt.month\n",
    "train[\"transaction_day\"] = train[\"transactiondate\"].dt.day\n",
    "train[\"transaction_quarter\"] = (train[\"transactiondate\"].dt.year - 2016)*4 +train[\"transactiondate\"].dt.quarter\n",
    "train.drop([\"transactiondate\"], inplace=True, axis=1)"
   ]
  },
  {
   "cell_type": "markdown",
   "metadata": {},
   "source": [
    "# Mod 3"
   ]
  },
  {
   "cell_type": "code",
   "execution_count": 962,
   "metadata": {
    "collapsed": true
   },
   "outputs": [],
   "source": [
    "train[\"New_YearsSinceBuild\"] = 2018 - train['yearbuilt']\n",
    "#print(train.New_YearsSinceBuild.value_counts())\n",
    "train.drop([\"yearbuilt\"], inplace=True, axis=1)"
   ]
  },
  {
   "cell_type": "markdown",
   "metadata": {},
   "source": [
    "# Mod 5"
   ]
  },
  {
   "cell_type": "code",
   "execution_count": 963,
   "metadata": {
    "collapsed": false
   },
   "outputs": [],
   "source": [
    "train['New_FinishedLivingToLotSizeRatio'] = train.calculatedfinishedsquarefeet / train.lotsizesquarefeet\n",
    "\n",
    "train['New_StructureTaxToLandTaxRatio'] = train.structuretaxvaluedollarcnt / train.landtaxvaluedollarcnt\n",
    "\n",
    "train['New_TaxRatio'] = train.taxamount / train.taxvaluedollarcnt\n"
   ]
  },
  {
   "cell_type": "code",
   "execution_count": 964,
   "metadata": {
    "collapsed": false
   },
   "outputs": [],
   "source": [
    "#print(train.New_haversine.value_counts())\n",
    "#print(train.latitude.value_counts())\n",
    "#print(train.longitude.value_counts())"
   ]
  },
  {
   "cell_type": "code",
   "execution_count": 965,
   "metadata": {
    "collapsed": false
   },
   "outputs": [],
   "source": [
    "#Distance and angle from city center?\n",
    "train.loc[train.latitude.isnull(), 'latitude'] = 0.\n",
    "train.loc[train.longitude.isnull(), 'longitude'] = 0.\n",
    "\n",
    "train.latitude /= 1000000.\n",
    "train.longitude /= 1000000.\n",
    "\n",
    "train.latitude = train.latitude.astype(float)\n",
    "train.longitude = train.longitude.astype(float)\n",
    "\n",
    "def get_haversine_la(row):\n",
    "    return haversine((34.042037, -118.247142),(row['latitude'], row['longitude']))\n",
    "\n",
    "def get_haversine_beverlyhills(row):\n",
    "    return haversine((34.074692, -118.401294),(row['latitude'], row['longitude']))\n",
    "\n",
    "def get_haversine_sanclemente(row):\n",
    "    return haversine((33.430520, -117.618732),(row['latitude'], row['longitude']))\n",
    "\n",
    "\n",
    "\n",
    "train['New_haversine_la'] = train.apply(get_haversine_la, axis=1)\n",
    "train['New_haversine_beverlyhills'] = train.apply(get_haversine_beverlyhills, axis=1)\n",
    "train['New_haversine_sanclemente'] = train.apply(get_haversine_sanclemente, axis=1)\n",
    "\n",
    "\n"
   ]
  },
  {
   "cell_type": "code",
   "execution_count": null,
   "metadata": {
    "collapsed": false
   },
   "outputs": [],
   "source": [
    "\n"
   ]
  },
  {
   "cell_type": "markdown",
   "metadata": {},
   "source": [
    "# CatBoost"
   ]
  },
  {
   "cell_type": "code",
   "execution_count": 812,
   "metadata": {
    "collapsed": false
   },
   "outputs": [
    {
     "name": "stdout",
     "output_type": "stream",
     "text": [
      "                 column_name  missing_count  missing_ratio\n",
      "3   architecturalstyletypeid          33176       0.997444\n",
      "4               basementsqft          33236       0.999248\n",
      "7        buildingclasstypeid          33255       0.999820\n",
      "10                decktypeid          32988       0.991792\n",
      "14      finishedsquarefeet13          33248       0.999609\n",
      "17       finishedsquarefeet6          33100       0.995159\n",
      "23            hashottuborspa          32528       0.977962\n",
      "29               poolsizesum          32882       0.988605\n",
      "30              pooltypeid10          32953       0.990740\n",
      "31               pooltypeid2          32836       0.987222\n",
      "42               storytypeid          33236       0.999248\n",
      "44    typeconstructiontypeid          33167       0.997174\n",
      "47        yardbuildingsqft26          33221       0.998797\n",
      "49             fireplaceflag          33194       0.997986\n",
      "55        taxdelinquencyflag          32343       0.972400\n",
      "56        taxdelinquencyyear          32343       0.972400\n",
      "['architecturalstyletypeid' 'basementsqft' 'buildingclasstypeid'\n",
      " 'decktypeid' 'finishedsquarefeet13' 'finishedsquarefeet6' 'hashottuborspa'\n",
      " 'poolsizesum' 'pooltypeid10' 'pooltypeid2' 'storytypeid'\n",
      " 'typeconstructiontypeid' 'yardbuildingsqft26' 'fireplaceflag'\n",
      " 'taxdelinquencyflag' 'taxdelinquencyyear']\n"
     ]
    }
   ],
   "source": [
    "missing_df = train.isnull().sum(axis=0).reset_index()\n",
    "missing_df.columns = ['column_name', 'missing_count']\n",
    "missing_df['missing_ratio'] = missing_df['missing_count'] / train.shape[0]\n",
    "high_miss_rate = missing_df['missing_ratio']>=0.97\n",
    "print(missing_df[high_miss_rate])\n",
    "print(missing_df[high_miss_rate].column_name.values)\n",
    "###\n",
    "### Fill in Nan\n",
    "###\n",
    "train.fillna(-999,inplace=True)"
   ]
  },
  {
   "cell_type": "code",
   "execution_count": null,
   "metadata": {
    "collapsed": true
   },
   "outputs": [],
   "source": []
  },
  {
   "cell_type": "code",
   "execution_count": 813,
   "metadata": {
    "collapsed": true
   },
   "outputs": [],
   "source": [
    "train.drop(['architecturalstyletypeid', 'basementsqft', 'buildingclasstypeid',\n",
    " 'decktypeid', 'finishedsquarefeet13', 'finishedsquarefeet6', 'hashottuborspa',\n",
    " 'poolsizesum', 'pooltypeid10', 'pooltypeid2', 'storytypeid',\n",
    " 'typeconstructiontypeid', 'yardbuildingsqft17', 'yardbuildingsqft26',\n",
    " 'fireplaceflag', 'taxdelinquencyflag', 'taxdelinquencyyear'], inplace=True, axis=1)"
   ]
  },
  {
   "cell_type": "code",
   "execution_count": 814,
   "metadata": {
    "collapsed": true
   },
   "outputs": [],
   "source": [
    "train.drop(['propertycountylandusecode', 'propertyzoningdesc'], axis=1, inplace=True)"
   ]
  },
  {
   "cell_type": "markdown",
   "metadata": {},
   "source": [
    "# Save data"
   ]
  },
  {
   "cell_type": "code",
   "execution_count": 966,
   "metadata": {
    "collapsed": true
   },
   "outputs": [],
   "source": [
    "filename = 'test_mod5.csv'\n",
    "train.to_csv(filename,index=False)"
   ]
  },
  {
   "cell_type": "markdown",
   "metadata": {
    "deletable": true,
    "editable": true
   },
   "source": [
    "\n",
    "### Remove fields and fill in any remaining missing data\n"
   ]
  },
  {
   "cell_type": "code",
   "execution_count": 906,
   "metadata": {
    "collapsed": false,
    "deletable": true,
    "editable": true
   },
   "outputs": [
    {
     "name": "stdout",
     "output_type": "stream",
     "text": [
      "['parcelid', 'logerror', 'basementsqft', 'bathroomcnt', 'bedroomcnt', 'buildingqualitytypeid', 'calculatedbathnbr', 'decktypeid', 'finishedfloor1squarefeet', 'calculatedfinishedsquarefeet', 'finishedsquarefeet12', 'finishedsquarefeet13', 'finishedsquarefeet15', 'finishedsquarefeet50', 'finishedsquarefeet6', 'fips', 'fireplacecnt', 'fullbathcnt', 'garagecarcnt', 'garagetotalsqft', 'latitude', 'longitude', 'lotsizesquarefeet', 'poolcnt', 'poolsizesum', 'pooltypeid10', 'pooltypeid2', 'pooltypeid7', 'rawcensustractandblock', 'regionidcity', 'regionidcounty', 'regionidneighborhood', 'regionidzip', 'roomcnt', 'threequarterbathnbr', 'unitcnt', 'yardbuildingsqft17', 'yardbuildingsqft26', 'numberofstories', 'structuretaxvaluedollarcnt', 'taxvaluedollarcnt', 'landtaxvaluedollarcnt', 'taxamount', 'censustractandblock', 'New_FinishedLivingToLotSizeRatio', 'New_StructureTaxToLandTaxRatio', 'New_TaxRatio', 'airconditioningtypeid_Central', 'airconditioningtypeid_EvaporativeCooler', 'airconditioningtypeid_None', 'airconditioningtypeid_Refrigeration', 'airconditioningtypeid_WallUnit', 'airconditioningtypeid_Yes', 'airconditioningtypeid_nan', 'architecturalstyletypeid_Bungalow', 'architecturalstyletypeid_CapeCod', 'architecturalstyletypeid_Contemporary', 'architecturalstyletypeid_Conventional', 'architecturalstyletypeid_FrenchProvincial', 'architecturalstyletypeid_Ranch', 'architecturalstyletypeid_nan', 'buildingclasstypeid_NonCombust', 'buildingclasstypeid_WoodFrames', 'buildingclasstypeid_nan', 'hashottuborspa_True', 'hashottuborspa_nan', 'heatingorsystemtypeid_Baseboard', 'heatingorsystemtypeid_Central', 'heatingorsystemtypeid_FloorWall', 'heatingorsystemtypeid_ForcedAir', 'heatingorsystemtypeid_Gravity', 'heatingorsystemtypeid_HeatPump', 'heatingorsystemtypeid_HotWater', 'heatingorsystemtypeid_None', 'heatingorsystemtypeid_Other', 'heatingorsystemtypeid_Radiant', 'heatingorsystemtypeid_Solar', 'heatingorsystemtypeid_Yes', 'heatingorsystemtypeid_nan', 'propertylandusetypeid_47.0', 'propertylandusetypeid_Cluster', 'propertylandusetypeid_CommercialOfficeResidentialMixed', 'propertylandusetypeid_Condo', 'propertylandusetypeid_Coop', 'propertylandusetypeid_Duplex', 'propertylandusetypeid_MobileHome', 'propertylandusetypeid_PannedUnit', 'propertylandusetypeid_PrefabHome', 'propertylandusetypeid_Quadruplex', 'propertylandusetypeid_ResidentialGeneral', 'propertylandusetypeid_SingleFam', 'propertylandusetypeid_Townhouse', 'propertylandusetypeid_triplex', 'propertylandusetypeid_nan', 'storytypeid_Basement', 'storytypeid_nan', 'typeconstructiontypeid_Concrete', 'typeconstructiontypeid_Frame', 'typeconstructiontypeid_Masonry', 'typeconstructiontypeid_Metal', 'typeconstructiontypeid_nan', 'fireplaceflag_True', 'fireplaceflag_nan', 'assessmentyear_2015.0', 'assessmentyear_2016.0', 'assessmentyear_nan', 'taxdelinquencyflag_Y', 'taxdelinquencyflag_nan', 'taxdelinquencyyear_3.0', 'taxdelinquencyyear_4.0', 'taxdelinquencyyear_6.0', 'taxdelinquencyyear_7.0', 'taxdelinquencyyear_8.0', 'taxdelinquencyyear_9.0', 'taxdelinquencyyear_10.0', 'taxdelinquencyyear_11.0', 'taxdelinquencyyear_12.0', 'taxdelinquencyyear_13.0', 'taxdelinquencyyear_14.0', 'taxdelinquencyyear_15.0', 'taxdelinquencyyear_99.0', 'taxdelinquencyyear_nan', 'transaction_year', 'transaction_month', 'transaction_day', 'transaction_quarter', 'New_YearsSinceBuild']\n",
      "127\n"
     ]
    }
   ],
   "source": [
    "print(list(train.columns.values))\n",
    "print(len(train.columns.values))"
   ]
  },
  {
   "cell_type": "code",
   "execution_count": 905,
   "metadata": {
    "collapsed": false,
    "deletable": true,
    "editable": true
   },
   "outputs": [
    {
     "name": "stdout",
     "output_type": "stream",
     "text": [
      "[]\n"
     ]
    }
   ],
   "source": [
    "###\n",
    "### Handle object fields. Either remove, one-hot-encode, or convert to different dtype\n",
    "###\n",
    "objects = train.select_dtypes(include=[object])\n",
    "print(objects.columns.values)"
   ]
  },
  {
   "cell_type": "code",
   "execution_count": 772,
   "metadata": {
    "collapsed": true
   },
   "outputs": [],
   "source": []
  },
  {
   "cell_type": "code",
   "execution_count": 586,
   "metadata": {
    "collapsed": false,
    "deletable": true,
    "editable": true
   },
   "outputs": [],
   "source": []
  },
  {
   "cell_type": "code",
   "execution_count": null,
   "metadata": {
    "collapsed": false,
    "deletable": true,
    "editable": true
   },
   "outputs": [],
   "source": []
  },
  {
   "cell_type": "code",
   "execution_count": 641,
   "metadata": {
    "collapsed": true,
    "deletable": true,
    "editable": true
   },
   "outputs": [],
   "source": []
  },
  {
   "cell_type": "code",
   "execution_count": 619,
   "metadata": {
    "collapsed": true,
    "deletable": true,
    "editable": true
   },
   "outputs": [],
   "source": []
  },
  {
   "cell_type": "code",
   "execution_count": 655,
   "metadata": {
    "collapsed": false,
    "deletable": true,
    "editable": true
   },
   "outputs": [],
   "source": []
  },
  {
   "cell_type": "code",
   "execution_count": null,
   "metadata": {
    "collapsed": false,
    "deletable": true,
    "editable": true
   },
   "outputs": [],
   "source": []
  },
  {
   "cell_type": "code",
   "execution_count": null,
   "metadata": {
    "collapsed": false,
    "deletable": true,
    "editable": true
   },
   "outputs": [],
   "source": []
  },
  {
   "cell_type": "code",
   "execution_count": 607,
   "metadata": {
    "collapsed": true,
    "deletable": true,
    "editable": true
   },
   "outputs": [],
   "source": []
  },
  {
   "cell_type": "code",
   "execution_count": null,
   "metadata": {
    "collapsed": false,
    "deletable": true,
    "editable": true
   },
   "outputs": [],
   "source": []
  },
  {
   "cell_type": "code",
   "execution_count": null,
   "metadata": {
    "collapsed": false,
    "deletable": true,
    "editable": true
   },
   "outputs": [],
   "source": []
  },
  {
   "cell_type": "code",
   "execution_count": null,
   "metadata": {
    "collapsed": false,
    "deletable": true,
    "editable": true
   },
   "outputs": [],
   "source": [
    "\n"
   ]
  },
  {
   "cell_type": "code",
   "execution_count": null,
   "metadata": {
    "collapsed": true,
    "deletable": true,
    "editable": true
   },
   "outputs": [],
   "source": []
  },
  {
   "cell_type": "code",
   "execution_count": null,
   "metadata": {
    "collapsed": true,
    "deletable": true,
    "editable": true
   },
   "outputs": [],
   "source": []
  },
  {
   "cell_type": "code",
   "execution_count": null,
   "metadata": {
    "collapsed": true,
    "deletable": true,
    "editable": true
   },
   "outputs": [],
   "source": []
  },
  {
   "cell_type": "code",
   "execution_count": 896,
   "metadata": {
    "collapsed": false,
    "deletable": true,
    "editable": true
   },
   "outputs": [
    {
     "name": "stdout",
     "output_type": "stream",
     "text": [
      "['logerror' 'airconditioningtypeid' 'architecturalstyletypeid'\n",
      " 'basementsqft' 'bathroomcnt' 'bedroomcnt' 'buildingclasstypeid'\n",
      " 'buildingqualitytypeid' 'calculatedbathnbr' 'decktypeid'\n",
      " 'finishedfloor1squarefeet' 'calculatedfinishedsquarefeet'\n",
      " 'finishedsquarefeet12' 'finishedsquarefeet13' 'finishedsquarefeet15'\n",
      " 'finishedsquarefeet50' 'finishedsquarefeet6' 'fips' 'fireplacecnt'\n",
      " 'fullbathcnt' 'garagecarcnt' 'garagetotalsqft' 'heatingorsystemtypeid'\n",
      " 'latitude' 'longitude' 'lotsizesquarefeet' 'poolcnt' 'poolsizesum'\n",
      " 'pooltypeid10' 'pooltypeid2' 'pooltypeid7' 'propertylandusetypeid'\n",
      " 'rawcensustractandblock' 'regionidcity' 'regionidcounty'\n",
      " 'regionidneighborhood' 'regionidzip' 'roomcnt' 'storytypeid'\n",
      " 'threequarterbathnbr' 'typeconstructiontypeid' 'unitcnt'\n",
      " 'yardbuildingsqft17' 'yardbuildingsqft26' 'yearbuilt' 'numberofstories'\n",
      " 'structuretaxvaluedollarcnt' 'taxvaluedollarcnt' 'assessmentyear'\n",
      " 'landtaxvaluedollarcnt' 'taxamount' 'taxdelinquencyyear'\n",
      " 'censustractandblock']\n"
     ]
    }
   ],
   "source": [
    "objects = train.select_dtypes(include=[np.float64])\n",
    "\n",
    "print(objects.columns.values)"
   ]
  },
  {
   "cell_type": "code",
   "execution_count": 895,
   "metadata": {
    "collapsed": false,
    "deletable": true,
    "editable": true
   },
   "outputs": [
    {
     "ename": "ValueError",
     "evalue": "could not convert string to float: 'Y'",
     "output_type": "error",
     "traceback": [
      "\u001b[0;31m---------------------------------------------------------------------------\u001b[0m",
      "\u001b[0;31mValueError\u001b[0m                                Traceback (most recent call last)",
      "\u001b[0;32m<ipython-input-895-ecbbc8690d74>\u001b[0m in \u001b[0;36m<module>\u001b[0;34m()\u001b[0m\n\u001b[1;32m      4\u001b[0m \u001b[0;34m\u001b[0m\u001b[0m\n\u001b[1;32m      5\u001b[0m \u001b[0;31m# TODO: Apply PCA by fitting the good data with the same number of dimensions as features\u001b[0m\u001b[0;34m\u001b[0m\u001b[0;34m\u001b[0m\u001b[0m\n\u001b[0;32m----> 6\u001b[0;31m \u001b[0mpca\u001b[0m \u001b[0;34m=\u001b[0m \u001b[0mPCA\u001b[0m\u001b[0;34m(\u001b[0m\u001b[0mn_components\u001b[0m\u001b[0;34m=\u001b[0m\u001b[0;36m20\u001b[0m\u001b[0;34m)\u001b[0m\u001b[0;34m.\u001b[0m\u001b[0mfit\u001b[0m\u001b[0;34m(\u001b[0m\u001b[0mtrain\u001b[0m\u001b[0;34m)\u001b[0m\u001b[0;34m\u001b[0m\u001b[0m\n\u001b[0m\u001b[1;32m      7\u001b[0m \u001b[0;34m\u001b[0m\u001b[0m\n\u001b[1;32m      8\u001b[0m \u001b[0;31m# TODO: Transform log_samples using the PCA fit above\u001b[0m\u001b[0;34m\u001b[0m\u001b[0;34m\u001b[0m\u001b[0m\n",
      "\u001b[0;32m/Users/BurrusRA/anaconda3/envs/carnd-term1/lib/python3.5/site-packages/sklearn/decomposition/pca.py\u001b[0m in \u001b[0;36mfit\u001b[0;34m(self, X, y)\u001b[0m\n\u001b[1;32m    325\u001b[0m             \u001b[0mReturns\u001b[0m \u001b[0mthe\u001b[0m \u001b[0minstance\u001b[0m \u001b[0mitself\u001b[0m\u001b[0;34m.\u001b[0m\u001b[0;34m\u001b[0m\u001b[0m\n\u001b[1;32m    326\u001b[0m         \"\"\"\n\u001b[0;32m--> 327\u001b[0;31m         \u001b[0mself\u001b[0m\u001b[0;34m.\u001b[0m\u001b[0m_fit\u001b[0m\u001b[0;34m(\u001b[0m\u001b[0mX\u001b[0m\u001b[0;34m)\u001b[0m\u001b[0;34m\u001b[0m\u001b[0m\n\u001b[0m\u001b[1;32m    328\u001b[0m         \u001b[0;32mreturn\u001b[0m \u001b[0mself\u001b[0m\u001b[0;34m\u001b[0m\u001b[0m\n\u001b[1;32m    329\u001b[0m \u001b[0;34m\u001b[0m\u001b[0m\n",
      "\u001b[0;32m/Users/BurrusRA/anaconda3/envs/carnd-term1/lib/python3.5/site-packages/sklearn/decomposition/pca.py\u001b[0m in \u001b[0;36m_fit\u001b[0;34m(self, X)\u001b[0m\n\u001b[1;32m    364\u001b[0m \u001b[0;34m\u001b[0m\u001b[0m\n\u001b[1;32m    365\u001b[0m         X = check_array(X, dtype=[np.float64, np.float32], ensure_2d=True,\n\u001b[0;32m--> 366\u001b[0;31m                         copy=self.copy)\n\u001b[0m\u001b[1;32m    367\u001b[0m \u001b[0;34m\u001b[0m\u001b[0m\n\u001b[1;32m    368\u001b[0m         \u001b[0;31m# Handle n_components==None\u001b[0m\u001b[0;34m\u001b[0m\u001b[0;34m\u001b[0m\u001b[0m\n",
      "\u001b[0;32m/Users/BurrusRA/anaconda3/envs/carnd-term1/lib/python3.5/site-packages/sklearn/utils/validation.py\u001b[0m in \u001b[0;36mcheck_array\u001b[0;34m(array, accept_sparse, dtype, order, copy, force_all_finite, ensure_2d, allow_nd, ensure_min_samples, ensure_min_features, warn_on_dtype, estimator)\u001b[0m\n\u001b[1;32m    400\u001b[0m                                       force_all_finite)\n\u001b[1;32m    401\u001b[0m     \u001b[0;32melse\u001b[0m\u001b[0;34m:\u001b[0m\u001b[0;34m\u001b[0m\u001b[0m\n\u001b[0;32m--> 402\u001b[0;31m         \u001b[0marray\u001b[0m \u001b[0;34m=\u001b[0m \u001b[0mnp\u001b[0m\u001b[0;34m.\u001b[0m\u001b[0marray\u001b[0m\u001b[0;34m(\u001b[0m\u001b[0marray\u001b[0m\u001b[0;34m,\u001b[0m \u001b[0mdtype\u001b[0m\u001b[0;34m=\u001b[0m\u001b[0mdtype\u001b[0m\u001b[0;34m,\u001b[0m \u001b[0morder\u001b[0m\u001b[0;34m=\u001b[0m\u001b[0morder\u001b[0m\u001b[0;34m,\u001b[0m \u001b[0mcopy\u001b[0m\u001b[0;34m=\u001b[0m\u001b[0mcopy\u001b[0m\u001b[0;34m)\u001b[0m\u001b[0;34m\u001b[0m\u001b[0m\n\u001b[0m\u001b[1;32m    403\u001b[0m \u001b[0;34m\u001b[0m\u001b[0m\n\u001b[1;32m    404\u001b[0m         \u001b[0;32mif\u001b[0m \u001b[0mensure_2d\u001b[0m\u001b[0;34m:\u001b[0m\u001b[0;34m\u001b[0m\u001b[0m\n",
      "\u001b[0;31mValueError\u001b[0m: could not convert string to float: 'Y'"
     ]
    }
   ],
   "source": [
    "#PCA \n",
    "\n",
    "from sklearn.decomposition import PCA\n",
    "\n",
    "# TODO: Apply PCA by fitting the good data with the same number of dimensions as features\n",
    "\n",
    "pca = PCA(n_components=20).fit(train)\n",
    "\n",
    "# TODO: Transform log_samples using the PCA fit above\n",
    "#pca_samples = pca.transform(log_samples)\n",
    "\n",
    "# Generate PCA results plot\n",
    "pca_results = vs.pca_results(train, pca)\n",
    "\n",
    "print( np.cumsum(pca_results['Explained Variance']))"
   ]
  },
  {
   "cell_type": "code",
   "execution_count": null,
   "metadata": {
    "collapsed": true
   },
   "outputs": [],
   "source": []
  }
 ],
 "metadata": {
  "kernelspec": {
   "display_name": "Python 3",
   "language": "python",
   "name": "python3"
  },
  "language_info": {
   "codemirror_mode": {
    "name": "ipython",
    "version": 3
   },
   "file_extension": ".py",
   "mimetype": "text/x-python",
   "name": "python",
   "nbconvert_exporter": "python",
   "pygments_lexer": "ipython3",
   "version": "3.5.2"
  },
  "widgets": {
   "state": {},
   "version": "1.1.2"
  }
 },
 "nbformat": 4,
 "nbformat_minor": 2
}
