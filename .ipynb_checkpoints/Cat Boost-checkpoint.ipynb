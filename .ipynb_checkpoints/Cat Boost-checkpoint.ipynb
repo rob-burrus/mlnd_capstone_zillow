{
 "cells": [
  {
   "cell_type": "code",
   "execution_count": 3,
   "metadata": {
    "collapsed": false,
    "deletable": true,
    "editable": true
   },
   "outputs": [],
   "source": [
    "import numpy as np\n",
    "import pandas as pd\n",
    "from catboost import CatBoostRegressor\n",
    "from tqdm import tqdm\n",
    "from sklearn.metrics import mean_absolute_error"
   ]
  },
  {
   "cell_type": "code",
   "execution_count": 5,
   "metadata": {
    "collapsed": false,
    "deletable": true,
    "editable": true
   },
   "outputs": [],
   "source": [
    "\n",
    "train = pd.read_csv(\"train_cat1.csv\")\n",
    "test = pd.read_csv(\"test_cat1.csv\")"
   ]
  },
  {
   "cell_type": "code",
   "execution_count": null,
   "metadata": {
    "collapsed": false,
    "deletable": true,
    "editable": true
   },
   "outputs": [],
   "source": []
  },
  {
   "cell_type": "code",
   "execution_count": 6,
   "metadata": {
    "collapsed": false,
    "deletable": true,
    "editable": true
   },
   "outputs": [
    {
     "name": "stdout",
     "output_type": "stream",
     "text": [
      "['parcelid', 'airconditioningtypeid', 'bathroomcnt', 'bedroomcnt', 'buildingqualitytypeid', 'calculatedbathnbr', 'finishedfloor1squarefeet', 'calculatedfinishedsquarefeet', 'finishedsquarefeet12', 'finishedsquarefeet15', 'finishedsquarefeet50', 'fips', 'fireplacecnt', 'fullbathcnt', 'garagecarcnt', 'garagetotalsqft', 'heatingorsystemtypeid', 'latitude', 'longitude', 'lotsizesquarefeet', 'poolcnt', 'pooltypeid7', 'propertylandusetypeid', 'rawcensustractandblock', 'regionidcity', 'regionidcounty', 'regionidneighborhood', 'regionidzip', 'roomcnt', 'threequarterbathnbr', 'unitcnt', 'numberofstories', 'structuretaxvaluedollarcnt', 'taxvaluedollarcnt', 'assessmentyear', 'landtaxvaluedollarcnt', 'taxamount', 'censustractandblock', 'transaction_year', 'transaction_month', 'transaction_day', 'transaction_quarter', 'New_YearsSinceBuild']\n"
     ]
    }
   ],
   "source": [
    "#Remomve logerror\n",
    "drop_columns = ['logerror']\n",
    "train_features = []\n",
    "\n",
    "for c in train.columns:\n",
    "    if c not in drop_columns:\n",
    "        train_features.append(c)\n",
    "         \n",
    "print(train_features)\n",
    "        \n"
   ]
  },
  {
   "cell_type": "code",
   "execution_count": null,
   "metadata": {
    "collapsed": false,
    "deletable": true,
    "editable": true
   },
   "outputs": [],
   "source": []
  },
  {
   "cell_type": "code",
   "execution_count": 7,
   "metadata": {
    "collapsed": false,
    "deletable": true,
    "editable": true
   },
   "outputs": [
    {
     "name": "stdout",
     "output_type": "stream",
     "text": [
      "Cat features are: ['airconditioningtypeid', 'buildingqualitytypeid', 'fips', 'heatingorsystemtypeid', 'pooltypeid7', 'propertylandusetypeid', 'regionidcity', 'regionidcounty', 'regionidneighborhood', 'regionidzip', 'assessmentyear']\n"
     ]
    }
   ],
   "source": [
    "###\n",
    "### Define categorical feature indices\n",
    "###\n",
    "\n",
    "cat_feature_inds = []\n",
    "cat_unique_thresh = 1000\n",
    "for i, c in enumerate(train_features):\n",
    "    num_uniques = len(train[c].unique())\n",
    "    if num_uniques < cat_unique_thresh \\\n",
    "        and not 'squarefeet' in c \\\n",
    "        and not 'sqft' in c \\\n",
    "        and not 'cnt' in c \\\n",
    "        and not 'nbr' in c \\\n",
    "        and not 'sum' in c \\\n",
    "        and not 'transaction' in c \\\n",
    "        and not 'New_YearsSinceBuild' in c \\\n",
    "        and not 'number' in c:\n",
    "        cat_feature_inds.append(i)\n",
    "        \n",
    "print(\"Cat features are: %s\" % [train_features[ind] for ind in cat_feature_inds])"
   ]
  },
  {
   "cell_type": "code",
   "execution_count": null,
   "metadata": {
    "collapsed": false,
    "deletable": true,
    "editable": true
   },
   "outputs": [],
   "source": []
  },
  {
   "cell_type": "code",
   "execution_count": 8,
   "metadata": {
    "collapsed": false,
    "deletable": true,
    "editable": true
   },
   "outputs": [
    {
     "name": "stdout",
     "output_type": "stream",
     "text": [
      "(134627, 43) (134627,)\n"
     ]
    }
   ],
   "source": [
    "\n",
    "X_train = train[train_features]\n",
    "y_train = train.logerror\n",
    "print(X_train.shape, y_train.shape)\n"
   ]
  },
  {
   "cell_type": "code",
   "execution_count": 9,
   "metadata": {
    "collapsed": false,
    "deletable": true,
    "editable": true
   },
   "outputs": [
    {
     "name": "stdout",
     "output_type": "stream",
     "text": [
      "(33261, 43)\n"
     ]
    }
   ],
   "source": [
    "\n",
    "X_test = test[train_features]\n",
    "print(X_test.shape)"
   ]
  },
  {
   "cell_type": "code",
   "execution_count": 1,
   "metadata": {
    "collapsed": false,
    "deletable": true,
    "editable": true,
    "scrolled": true
   },
   "outputs": [],
   "source": [
    "#num_ensembles = 5\n",
    "#y_pred = 0.0\n",
    "#for i in tqdm(range(num_ensembles)):\n",
    "#    model = CatBoostRegressor(\n",
    "#        iterations=630, learning_rate=0.03,\n",
    "#        depth=6, l2_leaf_reg=3,\n",
    "#        loss_function='MAE',\n",
    "#        eval_metric='MAE',\n",
    "#        random_seed=i)\n",
    "#    model.fit(\n",
    "#        X_train, y_train,\n",
    "#        cat_features=cat_feature_inds)\n",
    "#    y_pred += model.predict(X_test)\n",
    "#y_pred /= num_ensembles\n",
    "#"
   ]
  },
  {
   "cell_type": "code",
   "execution_count": null,
   "metadata": {
    "collapsed": false,
    "deletable": true,
    "editable": true
   },
   "outputs": [],
   "source": [
    "model = CatBoostRegressor(\n",
    "        iterations=630, learning_rate=0.03,\n",
    "        depth=6, l2_leaf_reg=3,\n",
    "        loss_function='MAE',\n",
    "        eval_metric='MAE')\n",
    "model.fit(X_train, y_train,cat_features=cat_feature_inds)\n",
    "\n",
    "y_pred = model.predict(X_test)"
   ]
  },
  {
   "cell_type": "code",
   "execution_count": 31,
   "metadata": {
    "collapsed": true,
    "deletable": true,
    "editable": true
   },
   "outputs": [],
   "source": []
  },
  {
   "cell_type": "code",
   "execution_count": 97,
   "metadata": {
    "collapsed": false,
    "deletable": true,
    "editable": true
   },
   "outputs": [
    {
     "name": "stdout",
     "output_type": "stream",
     "text": [
      "Mean Absolute Error: 0.0677197127556112\n"
     ]
    }
   ],
   "source": [
    "submission = pd.DataFrame()\n",
    "submission[\"parcelid\"] = test['parcelid'].copy()\n",
    "submission[\"logerror\"] = test['logerror'].copy()\n",
    "submission[\"prediction\"] = y_pred\n",
    "ground_truth = submission[\"logerror\"].values\n",
    "predictions = submission[\"prediction\"].values\n",
    "abs_error = abs(ground_truth - predictions)\n",
    "submission[\"abs_error\"] = abs_error\n",
    "\n",
    "# Calculate mean absolute error\n",
    "mae = mean_absolute_error(ground_truth, predictions)\n",
    "print(\"Mean Absolute Error: {}\".format(mae))"
   ]
  },
  {
   "cell_type": "code",
   "execution_count": 98,
   "metadata": {
    "collapsed": false,
    "deletable": true,
    "editable": true
   },
   "outputs": [
    {
     "name": "stdout",
     "output_type": "stream",
     "text": [
      "cat_preds_mod1.csv\n"
     ]
    }
   ],
   "source": [
    "filename = 'cat_preds_mod1.csv'\n",
    "print(filename)\n",
    "submission.to_csv(filename,index=False)"
   ]
  },
  {
   "cell_type": "code",
   "execution_count": null,
   "metadata": {
    "collapsed": true,
    "deletable": true,
    "editable": true
   },
   "outputs": [],
   "source": []
  }
 ],
 "metadata": {
  "kernelspec": {
   "display_name": "Python 3",
   "language": "python",
   "name": "python3"
  },
  "language_info": {
   "codemirror_mode": {
    "name": "ipython",
    "version": 3
   },
   "file_extension": ".py",
   "mimetype": "text/x-python",
   "name": "python",
   "nbconvert_exporter": "python",
   "pygments_lexer": "ipython3",
   "version": "3.5.2"
  },
  "widgets": {
   "state": {},
   "version": "1.1.2"
  }
 },
 "nbformat": 4,
 "nbformat_minor": 2
}
