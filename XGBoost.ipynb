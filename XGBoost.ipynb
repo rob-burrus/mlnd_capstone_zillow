{
 "cells": [
  {
   "cell_type": "code",
   "execution_count": 23,
   "metadata": {
    "collapsed": false,
    "deletable": true,
    "editable": true
   },
   "outputs": [],
   "source": [
    "import numpy as np\n",
    "import pandas as pd\n",
    "import xgboost as xgb\n",
    "from sklearn.model_selection import train_test_split, StratifiedKFold\n",
    "from sklearn.metrics import mean_absolute_error\n",
    "import matplotlib.pyplot as plt\n",
    "import datetime\n",
    "import seaborn as sn\n",
    "from hyperopt import hp\n",
    "from hyperopt import fmin, tpe, hp, STATUS_OK, Trials\n",
    "%matplotlib inline"
   ]
  },
  {
   "cell_type": "code",
   "execution_count": 212,
   "metadata": {
    "collapsed": false,
    "deletable": true,
    "editable": true
   },
   "outputs": [
    {
     "name": "stdout",
     "output_type": "stream",
     "text": [
      "['parcelid', 'logerror', 'basementsqft', 'bathroomcnt', 'bedroomcnt', 'buildingqualitytypeid', 'calculatedbathnbr', 'decktypeid', 'finishedfloor1squarefeet', 'calculatedfinishedsquarefeet', 'finishedsquarefeet12', 'finishedsquarefeet13', 'finishedsquarefeet15', 'finishedsquarefeet50', 'finishedsquarefeet6', 'fips', 'fireplacecnt', 'fullbathcnt', 'garagecarcnt', 'garagetotalsqft', 'latitude', 'longitude', 'lotsizesquarefeet', 'poolcnt', 'poolsizesum', 'pooltypeid10', 'pooltypeid2', 'pooltypeid7', 'rawcensustractandblock', 'regionidcity', 'regionidcounty', 'regionidneighborhood', 'regionidzip', 'roomcnt', 'threequarterbathnbr', 'unitcnt', 'yardbuildingsqft17', 'yardbuildingsqft26', 'numberofstories', 'structuretaxvaluedollarcnt', 'taxvaluedollarcnt', 'landtaxvaluedollarcnt', 'taxamount', 'censustractandblock', 'airconditioningtypeid_Central', 'airconditioningtypeid_EvaporativeCooler', 'airconditioningtypeid_None', 'airconditioningtypeid_Refrigeration', 'airconditioningtypeid_WallUnit', 'airconditioningtypeid_Yes', 'airconditioningtypeid_nan', 'architecturalstyletypeid_Bungalow', 'architecturalstyletypeid_CapeCod', 'architecturalstyletypeid_Contemporary', 'architecturalstyletypeid_Conventional', 'architecturalstyletypeid_FrenchProvincial', 'architecturalstyletypeid_Ranch', 'architecturalstyletypeid_nan', 'buildingclasstypeid_NonCombust', 'buildingclasstypeid_WoodFrames', 'buildingclasstypeid_nan', 'hashottuborspa_True', 'hashottuborspa_nan', 'heatingorsystemtypeid_Baseboard', 'heatingorsystemtypeid_Central', 'heatingorsystemtypeid_FloorWall', 'heatingorsystemtypeid_ForcedAir', 'heatingorsystemtypeid_Gravity', 'heatingorsystemtypeid_HeatPump', 'heatingorsystemtypeid_HotWater', 'heatingorsystemtypeid_None', 'heatingorsystemtypeid_Other', 'heatingorsystemtypeid_Radiant', 'heatingorsystemtypeid_Solar', 'heatingorsystemtypeid_Yes', 'heatingorsystemtypeid_nan', 'propertylandusetypeid_47.0', 'propertylandusetypeid_Cluster', 'propertylandusetypeid_CommercialOfficeResidentialMixed', 'propertylandusetypeid_Condo', 'propertylandusetypeid_Coop', 'propertylandusetypeid_Duplex', 'propertylandusetypeid_MobileHome', 'propertylandusetypeid_PannedUnit', 'propertylandusetypeid_PrefabHome', 'propertylandusetypeid_Quadruplex', 'propertylandusetypeid_ResidentialGeneral', 'propertylandusetypeid_SingleFam', 'propertylandusetypeid_Townhouse', 'propertylandusetypeid_triplex', 'propertylandusetypeid_nan', 'storytypeid_Basement', 'storytypeid_nan', 'typeconstructiontypeid_Concrete', 'typeconstructiontypeid_Frame', 'typeconstructiontypeid_Masonry', 'typeconstructiontypeid_Metal', 'typeconstructiontypeid_nan', 'fireplaceflag_True', 'fireplaceflag_nan', 'assessmentyear_2015.0', 'assessmentyear_2016.0', 'assessmentyear_nan', 'taxdelinquencyflag_Y', 'taxdelinquencyflag_nan', 'taxdelinquencyyear_3.0', 'taxdelinquencyyear_4.0', 'taxdelinquencyyear_6.0', 'taxdelinquencyyear_7.0', 'taxdelinquencyyear_8.0', 'taxdelinquencyyear_9.0', 'taxdelinquencyyear_10.0', 'taxdelinquencyyear_11.0', 'taxdelinquencyyear_12.0', 'taxdelinquencyyear_13.0', 'taxdelinquencyyear_14.0', 'taxdelinquencyyear_15.0', 'taxdelinquencyyear_99.0', 'taxdelinquencyyear_nan', 'transaction_year', 'transaction_month', 'transaction_day', 'transaction_quarter', 'New_YearsSinceBuild', 'New_FinishedLivingToLotSizeRatio', 'New_StructureTaxToLandTaxRatio', 'New_TaxRatio', 'New_TaxErrorRatio', 'New_haversine_la', 'New_haversine_beverlyhills', 'New_haversine_sanclemente']\n"
     ]
    }
   ],
   "source": [
    "train = pd.read_csv(\"train_mod5.csv\")\n",
    "print(list(train.columns.values))"
   ]
  },
  {
   "cell_type": "code",
   "execution_count": 213,
   "metadata": {
    "collapsed": false,
    "deletable": true,
    "editable": true
   },
   "outputs": [],
   "source": [
    "train_x = train.drop(['logerror'],axis=1,inplace=False)\n",
    "train_y = train['logerror']"
   ]
  },
  {
   "cell_type": "code",
   "execution_count": 214,
   "metadata": {
    "collapsed": false,
    "deletable": true,
    "editable": true
   },
   "outputs": [
    {
     "name": "stdout",
     "output_type": "stream",
     "text": [
      "Training set size: 114432\n",
      "Validation set size: 20195\n"
     ]
    }
   ],
   "source": [
    "# Split train_x, train_y into training and validation sets\n",
    "X_train, X_val, y_train, y_val = train_test_split(train_x, train_y, test_size=0.15, random_state=42)\n",
    "print(\"Training set size: {}\".format(len(X_train)))\n",
    "print(\"Validation set size: {}\".format(len(X_val)))"
   ]
  },
  {
   "cell_type": "code",
   "execution_count": 215,
   "metadata": {
    "collapsed": false,
    "deletable": true,
    "editable": true
   },
   "outputs": [],
   "source": [
    "dm_train = xgb.DMatrix(X_train, label=y_train)\n",
    "dm_valid = xgb.DMatrix(X_val, label=y_val)"
   ]
  },
  {
   "cell_type": "code",
   "execution_count": 160,
   "metadata": {
    "collapsed": false,
    "deletable": true,
    "editable": true
   },
   "outputs": [],
   "source": [
    "def score(params):\n",
    "    num_round = int(params['n_estimators'])\n",
    "    params['max_depth'] = int(params['max_depth'])\n",
    "    params['min_child_weight'] = int(params['min_child_weight'])\n",
    "\n",
    "    watchlist = [(dm_train, 'train'), (dm_valid, 'eval')]\n",
    "    model = xgb.train(params, dm_train, 1000, watchlist, early_stopping_rounds=50, verbose_eval=200)\n",
    "    predictions = model.predict(dm_valid)\n",
    "    score = mean_absolute_error(y_val, predictions)    \n",
    "    print(\"############### Score: {0}\".format(score))\n",
    "    print(\"############### Params: \", params)\n",
    "    return {'loss': score, 'status': STATUS_OK}"
   ]
  },
  {
   "cell_type": "code",
   "execution_count": 161,
   "metadata": {
    "collapsed": false,
    "deletable": true,
    "editable": true
   },
   "outputs": [],
   "source": [
    "def optimize(trials):\n",
    "    space = {\n",
    "             'eta' : hp.quniform('eta', 0.01, 0.1, 0.01),\n",
    "             'max_depth' : hp.quniform('max_depth', 3, 6, 1),\n",
    "             'min_child_weight' : hp.quniform('min_child_weight', 1, 6, 1),\n",
    "             'subsample' : hp.quniform('subsample', 0.8, 1.5, 0.05),\n",
    "             'gamma' : hp.quniform('gamma', 0.6, 1.0, 0.05),\n",
    "             'colsample_bytree' : hp.quniform('colsample_bytree', 0.7, 1, 0.05),\n",
    "             'eval_metric': 'mae',\n",
    "             'objective': 'reg:linear',\n",
    "             'silent' : 1\n",
    "             }\n",
    "    best = fmin(score, space, algo=tpe.suggest, trials=trials, max_evals=50)\n",
    "    print (best)"
   ]
  },
  {
   "cell_type": "code",
   "execution_count": 68,
   "metadata": {
    "collapsed": false,
    "deletable": true,
    "editable": true
   },
   "outputs": [],
   "source": [
    "trials = Trials()\n",
    "optimize(trials)"
   ]
  },
  {
   "cell_type": "code",
   "execution_count": 216,
   "metadata": {
    "collapsed": false,
    "deletable": true,
    "editable": true,
    "scrolled": false
   },
   "outputs": [
    {
     "name": "stdout",
     "output_type": "stream",
     "text": [
      "[0]\ttrain-mae:0.486596\tvalid-mae:0.486317\n",
      "Multiple eval metrics have been passed: 'valid-mae' will be used for early stopping.\n",
      "\n",
      "Will train until valid-mae hasn't improved in 50 rounds.\n",
      "[100]\ttrain-mae:0.102114\tvalid-mae:0.101713\n",
      "[200]\ttrain-mae:0.070658\tvalid-mae:0.070252\n",
      "[300]\ttrain-mae:0.068931\tvalid-mae:0.068653\n",
      "[400]\ttrain-mae:0.068717\tvalid-mae:0.068555\n",
      "Stopping. Best iteration:\n",
      "[403]\ttrain-mae:0.068713\tvalid-mae:0.068553\n",
      "\n"
     ]
    }
   ],
   "source": [
    "params = {}\n",
    "params['eta'] = 0.02\n",
    "params['objective'] = 'reg:linear'\n",
    "params['eval_metric'] = 'mae'\n",
    "params['max_depth'] = 4\n",
    "params['min_child_weight'] = 3\n",
    "params['subsample'] = 1.0\n",
    "params['gamma'] = 0.7\n",
    "params['colsample_bytree'] = 0.9\n",
    "params['silent'] = 1\n",
    "\n",
    "watchlist = [(dm_train, 'train'), (dm_valid, 'valid')]\n",
    "bst = xgb.train(params, dm_train, 600, watchlist, early_stopping_rounds=50, verbose_eval=100)\n",
    "#dm_trainvalid = xgb.DMatrix(train_x, label=train_y)\n",
    "#bst = xgb.cv(params, dm_trainvalid, num_boost_round=600, nfold=5, early_stopping_rounds=50, verbose_eval=100)\n"
   ]
  },
  {
   "cell_type": "code",
   "execution_count": null,
   "metadata": {
    "collapsed": false
   },
   "outputs": [],
   "source": []
  },
  {
   "cell_type": "code",
   "execution_count": 217,
   "metadata": {
    "collapsed": false,
    "deletable": true,
    "editable": true
   },
   "outputs": [],
   "source": [
    "\n",
    "bst.save_model(\"xgb_mod5.model\")\n"
   ]
  },
  {
   "cell_type": "code",
   "execution_count": 218,
   "metadata": {
    "collapsed": false,
    "deletable": true,
    "editable": true
   },
   "outputs": [],
   "source": [
    "test = pd.read_csv('test_mod5.csv')\n",
    "test_x = test.drop(['logerror'],axis=1,inplace=False)"
   ]
  },
  {
   "cell_type": "code",
   "execution_count": 219,
   "metadata": {
    "collapsed": true
   },
   "outputs": [],
   "source": [
    "# Get missing columns in the training test\n",
    "missing_cols = set( train_x.columns ) - set( test_x.columns )\n",
    "# Add a missing column in test set with default value equal to 0\n",
    "for c in missing_cols:\n",
    "    test_x[c] = 0\n",
    "# Ensure the order of column in the test set is in the same order than in train set\n",
    "test_x = test_x[train_x.columns]"
   ]
  },
  {
   "cell_type": "code",
   "execution_count": 220,
   "metadata": {
    "collapsed": false,
    "deletable": true,
    "editable": true
   },
   "outputs": [],
   "source": [
    "dm_test = xgb.DMatrix(test_x)\n",
    "test_y = bst.predict(dm_test)\n",
    "\n",
    "\n",
    "test_y = pd.DataFrame(test_y)\n",
    "test_y.columns = [\"prediction\"]"
   ]
  },
  {
   "cell_type": "code",
   "execution_count": 221,
   "metadata": {
    "collapsed": false,
    "deletable": true,
    "editable": true
   },
   "outputs": [
    {
     "name": "stdout",
     "output_type": "stream",
     "text": [
      "Mean Absolute Error: 0.06925752883304284\n"
     ]
    }
   ],
   "source": [
    "submission = pd.DataFrame()\n",
    "submission[\"parcelid\"] = test['parcelid'].copy()\n",
    "submission[\"logerror\"] = test['logerror'].copy()\n",
    "submission[\"prediction\"] = test_y[\"prediction\"].copy()\n",
    "ground_truth = submission[\"logerror\"].values\n",
    "predictions = submission[\"prediction\"].values\n",
    "abs_error = abs(ground_truth - predictions)\n",
    "submission[\"abs_error\"] = abs_error\n",
    "\n",
    "# Calculate mean absolute error\n",
    "mae = mean_absolute_error(ground_truth, predictions)\n",
    "print(\"Mean Absolute Error: {}\".format(mae))"
   ]
  },
  {
   "cell_type": "code",
   "execution_count": 225,
   "metadata": {
    "collapsed": false,
    "deletable": true,
    "editable": true
   },
   "outputs": [
    {
     "name": "stdout",
     "output_type": "stream",
     "text": [
      "xgb_preds_mod6.csv\n"
     ]
    }
   ],
   "source": [
    "filename = 'xgb_preds_mod6.csv'\n",
    "print(filename)\n",
    "submission.to_csv(filename,index=False)"
   ]
  },
  {
   "cell_type": "code",
   "execution_count": 223,
   "metadata": {
    "collapsed": false,
    "deletable": true,
    "editable": true
   },
   "outputs": [
    {
     "data": {
      "text/plain": [
       "<matplotlib.axes._subplots.AxesSubplot at 0x11846f9b0>"
      ]
     },
     "execution_count": 223,
     "metadata": {},
     "output_type": "execute_result"
    },
    {
     "data": {
      "image/png": "[encoded data removed]",
      "text/plain": [
       "<matplotlib.figure.Figure at 0x116b3a048>"
      ]
     },
     "metadata": {},
     "output_type": "display_data"
    }
   ],
   "source": [
    "featureImportance = bst.get_fscore()\n",
    "features = pd.DataFrame()\n",
    "features['features'] = featureImportance.keys()\n",
    "features['importance'] = featureImportance.values()\n",
    "features.sort_values(by=['importance'],ascending=False,inplace=True)\n",
    "fig,ax= plt.subplots()\n",
    "fig.set_size_inches(20,20)\n",
    "plt.xticks(rotation=90, fontsize=15)\n",
    "plt.yticks(fontsize=15)\n",
    "sn.barplot(data=features.head(25),x=\"importance\",y=\"features\",ax=ax,orient=\"h\",color=\"#34495e\")"
   ]
  },
  {
   "cell_type": "markdown",
   "metadata": {
    "collapsed": true,
    "deletable": true,
    "editable": true
   },
   "source": [
    "# Ensemble"
   ]
  },
  {
   "cell_type": "code",
   "execution_count": 226,
   "metadata": {
    "collapsed": false,
    "deletable": true,
    "editable": true
   },
   "outputs": [
    {
     "name": "stderr",
     "output_type": "stream",
     "text": [
      "/Users/BurrusRA/anaconda3/envs/carnd-term1/lib/python3.5/site-packages/IPython/core/interactiveshell.py:2717: DtypeWarning: Columns (51) have mixed types. Specify dtype option on import or set low_memory=False.\n",
      "  interactivity=interactivity, compiler=compiler, result=result)\n"
     ]
    }
   ],
   "source": [
    "#mod1 = pd.read_csv(\"xgb_preds_mod1.csv\")\n",
    "#mod2 = pd.read_csv(\"xgb_preds_mod2.csv\")\n",
    "mod6 = pd.read_csv(\"xgb_preds_mod6.csv\")\n",
    "mod4 = pd.read_csv(\"xgb_preds_mod4.csv\")\n",
    "#randforest = pd.read_csv(\"RandForestPrediction.csv\")\n",
    "test = pd.read_csv('test.csv')\n",
    "ground_truth = test['logerror'].values\n"
   ]
  },
  {
   "cell_type": "code",
   "execution_count": 227,
   "metadata": {
    "collapsed": false,
    "deletable": true,
    "editable": true
   },
   "outputs": [],
   "source": [
    "ensemble = pd.DataFrame()\n",
    "#ensemble['errors_randforest'] = randforest[\"abs_error\"].values\n",
    "#ensemble['errors_mod1'] = mod1[\"abs_error\"].values\n",
    "ensemble['errors_mod4'] = mod4[\"abs_error\"].values\n",
    "ensemble['errors_mod6'] = mod6[\"abs_error\"].values"
   ]
  },
  {
   "cell_type": "code",
   "execution_count": 228,
   "metadata": {
    "collapsed": false,
    "deletable": true,
    "editable": true
   },
   "outputs": [],
   "source": [
    "ensemble['mean'] = (ensemble['errors_mod4'].values +\n",
    "                    ensemble['errors_mod6'].values) / 2"
   ]
  },
  {
   "cell_type": "code",
   "execution_count": 229,
   "metadata": {
    "collapsed": false,
    "deletable": true,
    "editable": true
   },
   "outputs": [
    {
     "name": "stdout",
     "output_type": "stream",
     "text": [
      "Mean Absolute Error: 0.0692115163992686\n"
     ]
    }
   ],
   "source": [
    "count = len(ensemble['mean'])\n",
    "total_abs_error = sum(ensemble['mean'])\n",
    "mae = total_abs_error / count\n",
    "print(\"Mean Absolute Error: {}\".format(mae))"
   ]
  },
  {
   "cell_type": "code",
   "execution_count": null,
   "metadata": {
    "collapsed": false,
    "deletable": true,
    "editable": true
   },
   "outputs": [],
   "source": []
  },
  {
   "cell_type": "code",
   "execution_count": null,
   "metadata": {
    "collapsed": true,
    "deletable": true,
    "editable": true
   },
   "outputs": [],
   "source": []
  }
 ],
 "metadata": {
  "kernelspec": {
   "display_name": "Python 3",
   "language": "python",
   "name": "python3"
  },
  "language_info": {
   "codemirror_mode": {
    "name": "ipython",
    "version": 3
   },
   "file_extension": ".py",
   "mimetype": "text/x-python",
   "name": "python",
   "nbconvert_exporter": "python",
   "pygments_lexer": "ipython3",
   "version": "3.5.2"
  },
  "widgets": {
   "state": {},
   "version": "1.1.2"
  }
 },
 "nbformat": 4,
 "nbformat_minor": 2
}
